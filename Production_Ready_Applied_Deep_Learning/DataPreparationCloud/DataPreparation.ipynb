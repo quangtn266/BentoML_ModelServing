{
  "nbformat": 4,
  "nbformat_minor": 0,
  "metadata": {
    "colab": {
      "provenance": []
    },
    "kernelspec": {
      "name": "python3",
      "display_name": "Python 3"
    },
    "language_info": {
      "name": "python"
    }
  },
  "cells": [
    {
      "cell_type": "code",
      "execution_count": 1,
      "metadata": {
        "id": "xv-tCHWy3leH",
        "colab": {
          "base_uri": "https://localhost:8080/"
        },
        "outputId": "bd91ecf2-6ba7-4f24-c524-791c476ec806"
      },
      "outputs": [
        {
          "output_type": "stream",
          "name": "stdout",
          "text": [
            "Mounted at /content/drive\n"
          ]
        }
      ],
      "source": [
        "from google.colab import drive\n",
        "drive.mount('/content/drive')"
      ]
    },
    {
      "cell_type": "code",
      "source": [
        "%cd /content/drive/MyDrive/PysparkSource"
      ],
      "metadata": {
        "colab": {
          "base_uri": "https://localhost:8080/"
        },
        "id": "zV-zNP-u3rgD",
        "outputId": "a91b03ca-b2e2-4132-e2ce-f102c39391ad"
      },
      "execution_count": 2,
      "outputs": [
        {
          "output_type": "stream",
          "name": "stdout",
          "text": [
            "/content/drive/MyDrive/PysparkSource\n"
          ]
        }
      ]
    },
    {
      "cell_type": "code",
      "source": [
        "path_google_scholar = \"/content/drive/MyDrive/PysparkSource/output.csv\"\n",
        "path_covid = \"/content/drive/MyDrive/PysparkSource/COVID-19_Vaccine_Distribution_Allocations_by_Jurisdiction_-_Pfizer_20240120.csv\"\n",
        "path_covid2 = \"/content/drive/MyDrive/PysparkSource/us-counties.csv\"\n",
        "path_out_base_result = \"/content/drive/MyDrive/PysparkSource/results\""
      ],
      "metadata": {
        "id": "MK0fIDVz3yjF"
      },
      "execution_count": 3,
      "outputs": []
    },
    {
      "cell_type": "code",
      "source": [
        "path_out_avg = path_out_base_result + \"top_10_corona+dist\""
      ],
      "metadata": {
        "id": "J9xLiiwg4e-v"
      },
      "execution_count": 4,
      "outputs": []
    },
    {
      "cell_type": "code",
      "source": [
        "# Import Important libraries\n",
        "import pyspark.sql.functions as F\n",
        "import pandas as pd\n",
        "from tabulate import tabulate\n",
        "import traceback\n",
        "import numpy as np\n",
        "import matplotlib.pyplot as plt\n",
        "from requests import get\n",
        "import os\n",
        "import tensorflow as tf\n",
        "from tensorflow import keras\n",
        "from tensorflow.keras import layers\n",
        "import torch\n",
        "import matplotlib\n",
        "import pytorch_lightning\n",
        "from __future__ import print_function\n",
        "from pyspark.mllib.recommendation import ALS, MatrixFactorizationModel, Rating"
      ],
      "metadata": {
        "id": "kALx4utw4OOf"
      },
      "execution_count": 11,
      "outputs": []
    },
    {
      "cell_type": "code",
      "source": [
        "def pretty_print_pandas(title, df, n):\n",
        "  \"\"\" Pretty print \"\"\"\n",
        "  print(f\"{title}:\")\n",
        "  print(tabulate(df.head(n), headers=\"keys\", tablefmt=\"psql\"))"
      ],
      "metadata": {
        "id": "UjRKBIKJ2m1z"
      },
      "execution_count": 12,
      "outputs": []
    },
    {
      "cell_type": "code",
      "source": [
        "import findspark\n",
        "findspark.init()"
      ],
      "metadata": {
        "id": "NmbiMbUU4BMt"
      },
      "execution_count": 17,
      "outputs": []
    },
    {
      "cell_type": "code",
      "source": [
        "from pyspark.sql import SparkSession\n",
        "\n",
        "spark = SparkSession.builder.master(\"local\").appName(\"Colab\").config(\"spark.ui.port\", '4050').getOrCreate()"
      ],
      "metadata": {
        "id": "NN_P8O-y0NEF"
      },
      "execution_count": 18,
      "outputs": []
    },
    {
      "cell_type": "code",
      "source": [
        "## read google scholar\n",
        "df_gs = spark.read.option(\"header\", True).csv(path_google_scholar)\n",
        "\n",
        "## read covid\n",
        "df_covid = spark.read.option(\"header\", True).csv(path_covid)\n",
        "\n",
        "## read covid 2\n",
        "df_covid2 = spark.read.option(\"header\", True).csv(path_covid2)\n",
        "\n",
        "df_covid2.show(n=2)"
      ],
      "metadata": {
        "id": "k6Mfz0d-0dsa",
        "colab": {
          "base_uri": "https://localhost:8080/"
        },
        "outputId": "ee49b251-dc93-4f6c-ec04-643a46040d76"
      },
      "execution_count": 20,
      "outputs": [
        {
          "output_type": "stream",
          "name": "stdout",
          "text": [
            "+----------+---------+----------+-----+-----+------+\n",
            "|      date|   county|     state| fips|cases|deaths|\n",
            "+----------+---------+----------+-----+-----+------+\n",
            "|2020-01-21|Snohomish|Washington|53061|    1|     0|\n",
            "|2020-01-22|Snohomish|Washington|53061|    1|     0|\n",
            "+----------+---------+----------+-----+-----+------+\n",
            "only showing top 2 rows\n",
            "\n"
          ]
        }
      ]
    },
    {
      "cell_type": "code",
      "source": [
        "c1 = df_covid.select(F.lower(\"jurisdiction\")).distinct().count()\n",
        "c2 = df_covid2.select(F.lower(\"state\")).distinct().count()\n",
        "print(f\"c1: {c1} c2: {c2}\")"
      ],
      "metadata": {
        "id": "atSfwwgy0y76",
        "colab": {
          "base_uri": "https://localhost:8080/"
        },
        "outputId": "85b416ad-2240-4fd6-d873-177168ab3c22"
      },
      "execution_count": 21,
      "outputs": [
        {
          "output_type": "stream",
          "name": "stdout",
          "text": [
            "c1: 63 c2: 56\n"
          ]
        }
      ]
    },
    {
      "cell_type": "code",
      "source": [
        "# unique states from covid ds1\n",
        "df_covid.select(F.lower(\"jurisdiction\")).distinct().show(n=10)\n",
        "\n",
        "# unique states from covid ds 2\n",
        "df_covid2.select(\"state\").distinct().show(n=10)"
      ],
      "metadata": {
        "id": "vhTfT2XH038-",
        "colab": {
          "base_uri": "https://localhost:8080/"
        },
        "outputId": "58423747-e914-49db-a557-31eb71b0c01a"
      },
      "execution_count": 22,
      "outputs": [
        {
          "output_type": "stream",
          "name": "stdout",
          "text": [
            "+-------------------+\n",
            "|lower(jurisdiction)|\n",
            "+-------------------+\n",
            "|      west virginia|\n",
            "|      new hampshire|\n",
            "|    mariana islands|\n",
            "|            alabama|\n",
            "|           new york|\n",
            "|   federal entities|\n",
            "|     american samoa|\n",
            "|     north carolina|\n",
            "|            chicago|\n",
            "|       pennsylvania|\n",
            "+-------------------+\n",
            "only showing top 10 rows\n",
            "\n",
            "+--------------------+\n",
            "|               state|\n",
            "+--------------------+\n",
            "|                Utah|\n",
            "|              Hawaii|\n",
            "|           Minnesota|\n",
            "|                Ohio|\n",
            "|Northern Mariana ...|\n",
            "|              Oregon|\n",
            "|            Arkansas|\n",
            "|               Texas|\n",
            "|        North Dakota|\n",
            "|        Pennsylvania|\n",
            "+--------------------+\n",
            "only showing top 10 rows\n",
            "\n"
          ]
        }
      ]
    },
    {
      "cell_type": "markdown",
      "source": [
        "## Google scholar --> calculate frequency of research interest"
      ],
      "metadata": {
        "id": "6CNREoUc380n"
      }
    },
    {
      "cell_type": "code",
      "source": [
        "# Calculate frequency for each word in research interest\n",
        "from pyspark import SparkContext\n",
        "from operator import add\n",
        "from pyspark.sql.types import StructType, StructField, StringType, IntegerType\n",
        "from pyspark.sql import SQLContext"
      ],
      "metadata": {
        "id": "IFP2bxs93y1c"
      },
      "execution_count": 24,
      "outputs": []
    },
    {
      "cell_type": "code",
      "source": [
        "## research_interest can't be None\n",
        "df_gs_clean = df_gs.filter(\"research_interest != 'None'\")\n",
        "## referring Columns Names\n",
        "rdd_ri = df_gs_clean.rdd.map(lambda x: (x[\"research_interest\"]))\n",
        "print(\"\\nSample RDD rows:\")\n",
        "print(rdd_ri.take(5))\n",
        "print(\"\\nSample RDD rows after frequency count for each words\")"
      ],
      "metadata": {
        "colab": {
          "base_uri": "https://localhost:8080/"
        },
        "id": "_7ZetaLA4TmA",
        "outputId": "f05e990f-4850-4cff-81c4-6f658623fbac"
      },
      "execution_count": 26,
      "outputs": [
        {
          "output_type": "stream",
          "name": "stdout",
          "text": [
            "\n",
            "Sample RDD rows:\n",
            "['data_mining##anomaly_detection', 'artificial_intelligence##machine_learning##data_mining##graph_mining##security', 'machine_learning##never_ending_learning##lifelong_machine_learning##medical_informatics', 'graph_mining##big_data_analytics##machine_learning', 'network_security##cyber_physical_systems_security##cyber_education_and_workforce_development']\n",
            "\n",
            "Sample RDD rows after frequency count for each words\n"
          ]
        }
      ]
    },
    {
      "cell_type": "code",
      "source": [
        "rdd_ri_freq = rdd_ri.flatMap(lambda x: [(w.lower(), 1) for w in x.split('##')]).reduceByKey(add)\n",
        "## rdd print with take() function\n",
        "print(rdd_ri_freq.take(5))\n",
        "\n",
        "# approach 1 : convert to df without any schema (no proper col names)\n",
        "df_ri_freq = rdd_ri_freq.toDF()\n",
        "\n",
        "pretty_print_pandas(\"RI freq without schema\", df_ri_freq, 10)"
      ],
      "metadata": {
        "colab": {
          "base_uri": "https://localhost:8080/"
        },
        "id": "MMuz044g4uMV",
        "outputId": "03ba0b71-b239-4a86-dd5d-70edb17591e3"
      },
      "execution_count": 27,
      "outputs": [
        {
          "output_type": "stream",
          "name": "stdout",
          "text": [
            "[('data_mining', 63), ('anomaly_detection', 5), ('artificial_intelligence', 123), ('machine_learning', 198), ('graph_mining', 5)]\n",
            "RI freq without schema:\n",
            "+---------------------------+-----+\n",
            "| 0                         |   1 |\n",
            "|---------------------------+-----|\n",
            "| data_mining               |  63 |\n",
            "| anomaly_detection         |   5 |\n",
            "| artificial_intelligence   | 123 |\n",
            "| machine_learning          | 198 |\n",
            "| graph_mining              |   5 |\n",
            "| security                  |  25 |\n",
            "| never_ending_learning     |   1 |\n",
            "| lifelong_machine_learning |   1 |\n",
            "| medical_informatics       |   7 |\n",
            "| big_data_analytics        |   5 |\n",
            "+---------------------------+-----+\n"
          ]
        }
      ]
    },
    {
      "cell_type": "code",
      "source": [
        "# approach 2: convert to df with schema\n",
        "schema = StructType([StructField(\"ri\", StringType(), False),\n",
        "                     StructField(\"frequency\", IntegerType(), False)])\n",
        "# convert rdd to df with schema\n",
        "df = spark.createDataFrame(rdd_ri_freq, schema)\n",
        "print(\"\\nProposed Schema of DF:\")\n",
        "df.printSchema()\n",
        "print(\"\\nRDD converted to DF with schema\")\n",
        "# sort\n",
        "df_sort = df.sort(F.col(\"frequency\").desc())\n",
        "df_sort.show(10, truncate=False)"
      ],
      "metadata": {
        "colab": {
          "base_uri": "https://localhost:8080/"
        },
        "id": "IGedrZUt5q55",
        "outputId": "7a7d02c8-e657-4019-db83-5f9fe3ed7ca8"
      },
      "execution_count": 28,
      "outputs": [
        {
          "output_type": "stream",
          "name": "stdout",
          "text": [
            "\n",
            "Proposed Schema of DF:\n",
            "root\n",
            " |-- ri: string (nullable = false)\n",
            " |-- frequency: integer (nullable = false)\n",
            "\n",
            "\n",
            "RDD converted to DF with schema\n",
            "+---------------------------+---------+\n",
            "|ri                         |frequency|\n",
            "+---------------------------+---------+\n",
            "|machine_learning           |198      |\n",
            "|artificial_intelligence    |123      |\n",
            "|software_engineering       |94       |\n",
            "|computer_vision            |81       |\n",
            "|data_mining                |63       |\n",
            "|natural_language_processing|63       |\n",
            "|robotics                   |53       |\n",
            "|human_computer_interaction |52       |\n",
            "|information_retrieval      |42       |\n",
            "|deep_learning              |36       |\n",
            "+---------------------------+---------+\n",
            "only showing top 10 rows\n",
            "\n"
          ]
        }
      ]
    },
    {
      "cell_type": "code",
      "source": [
        "# This example takes all the columns in the given google scholar file and process the rdd\n",
        "# rdd\n",
        "rdd = spark.sparkContext.textFile(path_google_scholar)\n",
        "print(type(rdd))\n",
        "counts = rdd.flatMap(lambda x: [(w.lower(), 1) for w in x.split(',')]).reduceByKey(add)\n",
        "print(counts.take(5))"
      ],
      "metadata": {
        "colab": {
          "base_uri": "https://localhost:8080/"
        },
        "id": "p3xH57JH6a-g",
        "outputId": "f279c5b6-f798-44e2-fa0a-eb7a1c4fa3e7"
      },
      "execution_count": 29,
      "outputs": [
        {
          "output_type": "stream",
          "name": "stdout",
          "text": [
            "<class 'pyspark.rdd.RDD'>\n",
            "[('author_name', 1), ('email', 1), ('affiliation', 1), ('coauthors_names', 1), ('research_interest', 1)]\n"
          ]
        }
      ]
    },
    {
      "cell_type": "markdown",
      "source": [
        "## UDF to create a new field \"is_artifical_intelligence\" of boolean type"
      ],
      "metadata": {
        "id": "tPjpNDM37Xa4"
      }
    },
    {
      "cell_type": "code",
      "source": [
        "lst_ai = [\"data_science\", \"artificial_intelligence\", \"machine_learning\"]"
      ],
      "metadata": {
        "id": "ZGrq9p1w7Jns"
      },
      "execution_count": 32,
      "outputs": []
    },
    {
      "cell_type": "code",
      "source": [
        "@F.udf\n",
        "def is_ai(research):\n",
        "  \"\"\" return 1 if research in AI domain else 0 \"\"\"\n",
        "  try:\n",
        "    # split the research interest string with delimiter \"##\"\n",
        "    lst_research = [w.lower() for w in str(research).split(\"##\")]\n",
        "\n",
        "    for res in lst_research:\n",
        "      # if present in AI domain\n",
        "      if res in lst_ai:\n",
        "        return 1\n",
        "      # not present in AI domain\n",
        "      return 0\n",
        "  except:\n",
        "    return -1\n",
        "\n",
        "# df read\n",
        "df_gs = spark.read.option(\"header\", True).csv(path_google_scholar)\n",
        "# create a new column \"is_artificial_intelligence\"\n",
        "df_gs_new = df_gs.withColumn(\"is_artificial_intelligence\", is_ai(F.col(\"research_interest\")))\n",
        "\n",
        "# df_gs_new.printSchema()\n",
        "df_gs.show(5, truncate=False)"
      ],
      "metadata": {
        "colab": {
          "base_uri": "https://localhost:8080/"
        },
        "id": "lyQBH9NP7UF3",
        "outputId": "2e374347-1c96-40f2-da6c-b2686cd0ea50"
      },
      "execution_count": 33,
      "outputs": [
        {
          "output_type": "stream",
          "name": "stdout",
          "text": [
            "+----------------------+------------------+----------------------------------+-----------------------------------------------------------------------------------------------------------------------------------------------------+--------------------------------------------------------------------------------------------+\n",
            "|author_name           |email             |affiliation                       |coauthors_names                                                                                                                                      |research_interest                                                                           |\n",
            "+----------------------+------------------+----------------------------------+-----------------------------------------------------------------------------------------------------------------------------------------------------+--------------------------------------------------------------------------------------------+\n",
            "|William Eberle        |tntech.edu        |Tennessee Technological University|NULL                                                                                                                                                 |data_mining##anomaly_detection                                                              |\n",
            "|Lawrence Holder       |wsu.edu           |Washington State University       |Diane J Cook##William Eberle                                                                                                                         |artificial_intelligence##machine_learning##data_mining##graph_mining##security              |\n",
            "|Talbert DA            |tntech.edu        |Tennessee Technological University|NULL                                                                                                                                                 |machine_learning##never_ending_learning##lifelong_machine_learning##medical_informatics     |\n",
            "|Dr. Sirisha Velampalli|crraoaimscs.res.in|NULL                              |William Eberle##Lenin Mookiah                                                                                                                        |graph_mining##big_data_analytics##machine_learning                                          |\n",
            "|Ambareen Siraj        |tntech.edu        |Tennessee Tech University         |Rayford Vaughn##William Eberle##Siddharth Kaza##Christa Cody##Khaled Rabieh##Mohammad Ashiqur Rahman##Lenin Mookiah##Ferrol Aderholdt##Brandon Malone|network_security##cyber_physical_systems_security##cyber_education_and_workforce_development|\n",
            "+----------------------+------------------+----------------------------------+-----------------------------------------------------------------------------------------------------------------------------------------------------+--------------------------------------------------------------------------------------------+\n",
            "only showing top 5 rows\n",
            "\n"
          ]
        }
      ]
    },
    {
      "cell_type": "code",
      "source": [
        "df_gs_new.show(n=20)\n",
        "print(f\"Verify that is_ai should have only 2 distinct value: 0 & 1\")"
      ],
      "metadata": {
        "colab": {
          "base_uri": "https://localhost:8080/"
        },
        "id": "GYf-tyXZ887t",
        "outputId": "3d484cad-ae4b-44b1-da53-6e6df8881d3d"
      },
      "execution_count": 34,
      "outputs": [
        {
          "output_type": "stream",
          "name": "stdout",
          "text": [
            "+--------------------+-------------------+--------------------+--------------------+--------------------+--------------------------+\n",
            "|         author_name|              email|         affiliation|     coauthors_names|   research_interest|is_artificial_intelligence|\n",
            "+--------------------+-------------------+--------------------+--------------------+--------------------+--------------------------+\n",
            "|      William Eberle|         tntech.edu|Tennessee Technol...|                NULL|data_mining##anom...|                         0|\n",
            "|     Lawrence Holder|            wsu.edu|Washington State ...|Diane J Cook##Wil...|artificial_intell...|                         1|\n",
            "|          Talbert DA|         tntech.edu|Tennessee Technol...|                NULL|machine_learning#...|                         1|\n",
            "|Dr. Sirisha Velam...| crraoaimscs.res.in|                NULL|William Eberle##L...|graph_mining##big...|                         0|\n",
            "|      Ambareen Siraj|         tntech.edu|Tennessee Tech Un...|Rayford Vaughn##W...|network_security#...|                         0|\n",
            "|        Christa Cody|           ncsu.edu|North Carolina St...|                NULL|artificial_intell...|                         1|\n",
            "|      Siddharth Kaza|         towson.edu|   Towson University|Byron Marshall##J...|                NULL|                         0|\n",
            "|    Ferrol Aderholdt|         nvidia.com|              NVIDIA|                NULL|                NULL|                         0|\n",
            "|       Khaled Rabieh|           shsu.edu|                NULL|Mohamed M. E. A. ...|information_secur...|                         0|\n",
            "|      Byron Marshall|bus.oregonstate.edu|Oregon State Univ...|Hsinchun Chen##Si...|it_security##know...|                         0|\n",
            "|       Peter Kawalek|        lboro.ac.uk|Loughborough Univ...|                NULL|information_syste...|                         0|\n",
            "|Fatemeh “Mariam” ...|            uwm.edu|University of Wis...|Gaurav Bansal##Ja...|web_based_it_syst...|                         0|\n",
            "|Mohamed M. E. A. ...|         tntech.edu|Tennessee Tech Un...|                NULL|security_and_priv...|                         0|\n",
            "|      Josh Dehlinger|         towson.edu|   Towson University|Robyn Lutz##Suran...|software_engineering|                         0|\n",
            "|          Jaeki Song|            ttu.edu|Texas Tech Univer...|                NULL|                NULL|                         0|\n",
            "|       Wingyan Chung|            wcu.edu|Western Carolina ...|Hsinchun Chen##Da...|business_analytic...|                         0|\n",
            "|        Ahmed Abbasi|             nd.edu|University of Not...|Hsinchun Chen##Fa...|artificial_intell...|                         1|\n",
            "|     Gabriel Weimann|    com.haifa.ac.il| University of Haifa|Jonathan Cohen##W...|political_communi...|                         0|\n",
            "|       Lenin Mookiah|students.tntech.edu|                NULL|William Eberle##L...|graph_mining##ano...|                         0|\n",
            "|        Diane J Cook|       eecs.wsu.edu|Washington State ...|Lawrence Holder##...|artificial_intell...|                         1|\n",
            "+--------------------+-------------------+--------------------+--------------------+--------------------+--------------------------+\n",
            "only showing top 20 rows\n",
            "\n",
            "Verify that is_ai should have only 2 distinct value: 0 & 1\n"
          ]
        }
      ]
    },
    {
      "cell_type": "code",
      "source": [
        "df_gs_new.select(\"is_artificial_intelligence\").distinct().show(5)"
      ],
      "metadata": {
        "colab": {
          "base_uri": "https://localhost:8080/"
        },
        "id": "XeEwOdFU9GqX",
        "outputId": "df4b24b8-3ba6-47bc-9ca6-e32790033bb3"
      },
      "execution_count": 36,
      "outputs": [
        {
          "output_type": "stream",
          "name": "stdout",
          "text": [
            "+--------------------------+\n",
            "|is_artificial_intelligence|\n",
            "+--------------------------+\n",
            "|                         0|\n",
            "|                         1|\n",
            "+--------------------------+\n",
            "\n"
          ]
        }
      ]
    },
    {
      "cell_type": "code",
      "source": [
        "df_gs_new[df_gs_new[\"author_name\"].isin([\"Christa Cody\", \"Gabriel Weimann\", \"\"])].select(\"author_name\",\"research_interest\",\"is_artificial_intelligence\") .show(5, truncate=False)"
      ],
      "metadata": {
        "colab": {
          "base_uri": "https://localhost:8080/"
        },
        "id": "HzFVGEju9TKz",
        "outputId": "3e7e3f46-014c-4849-8c74-67fd2f452f7b"
      },
      "execution_count": 38,
      "outputs": [
        {
          "output_type": "stream",
          "name": "stdout",
          "text": [
            "+---------------+-----------------------------------------------------------------+--------------------------+\n",
            "|author_name    |research_interest                                                |is_artificial_intelligence|\n",
            "+---------------+-----------------------------------------------------------------+--------------------------+\n",
            "|Christa Cody   |artificial_intelligence##machine_learning##educational_technology|1                         |\n",
            "|Gabriel Weimann|political_communication##terrorism##media_effects                |0                         |\n",
            "+---------------+-----------------------------------------------------------------+--------------------------+\n",
            "\n"
          ]
        }
      ]
    },
    {
      "cell_type": "markdown",
      "source": [
        "### Top 10 Vaccine weekly 1st does distribution states"
      ],
      "metadata": {
        "id": "9lynYkKP99iP"
      }
    },
    {
      "cell_type": "code",
      "source": [
        "# print sample\n",
        "df_covid.show(n=2, truncate=False)\n",
        "# group by average\n",
        "df_avg_1 = df_covid.groupby(\"jurisdiction\")\\\n",
        "  .agg(F.avg(\"1st Dose Allocations\")\n",
        "  .alias(\"avg\"))\\\n",
        "  .sort(F.col(\"avg\").desc())\\\n",
        "  .toDF(\"state\", \"avg\")"
      ],
      "metadata": {
        "colab": {
          "base_uri": "https://localhost:8080/"
        },
        "id": "66_sXM_49x1f",
        "outputId": "364a81a2-f344-497d-aeb2-710a8610b0d9"
      },
      "execution_count": 45,
      "outputs": [
        {
          "output_type": "stream",
          "name": "stdout",
          "text": [
            "+------------+-------------------+--------------------+--------------------+\n",
            "|Jurisdiction|Week of Allocations|1st Dose Allocations|2nd Dose Allocations|\n",
            "+------------+-------------------+--------------------+--------------------+\n",
            "|Connecticut |06/21/2021         |54360               |54360               |\n",
            "|Maine       |06/21/2021         |21420               |21420               |\n",
            "+------------+-------------------+--------------------+--------------------+\n",
            "only showing top 2 rows\n",
            "\n"
          ]
        }
      ]
    },
    {
      "cell_type": "code",
      "source": [
        "print(\"Top 10 states by 1st dose covid vaccine distribution\")\n",
        "df_avg_1.show(n=10)\n",
        "print(type(df_avg_1))"
      ],
      "metadata": {
        "colab": {
          "base_uri": "https://localhost:8080/"
        },
        "id": "vZ8l2MU8_HtZ",
        "outputId": "b94f9b45-11b5-4ed0-e83e-eb357d7892c0"
      },
      "execution_count": 46,
      "outputs": [
        {
          "output_type": "stream",
          "name": "stdout",
          "text": [
            "Top 10 states by 1st dose covid vaccine distribution\n",
            "+----------------+------------------+\n",
            "|           state|               avg|\n",
            "+----------------+------------------+\n",
            "|      California|440477.14285714284|\n",
            "|           Texas|301665.53571428574|\n",
            "|         Florida|240923.57142857142|\n",
            "|Federal Entities|176817.32142857142|\n",
            "|            Ohio|         132558.75|\n",
            "|    Pennsylvania|         130563.75|\n",
            "|        New York|128911.60714285714|\n",
            "|  North Carolina|115493.57142857143|\n",
            "|        Illinois|          114705.0|\n",
            "|         Georgia|114635.35714285714|\n",
            "+----------------+------------------+\n",
            "only showing top 10 rows\n",
            "\n",
            "<class 'pyspark.sql.dataframe.DataFrame'>\n"
          ]
        }
      ]
    },
    {
      "cell_type": "code",
      "source": [
        "# write top 10 by average corona weekly vaccine states\n",
        "df_avg_1.limit(10).coalesce(1).write.mode(\"overwrite\").option(\"header\", True).option(\"quoteAll\", True).csv(path_out_avg)"
      ],
      "metadata": {
        "id": "6Z_vUuh1_4_h"
      },
      "execution_count": 47,
      "outputs": []
    },
    {
      "cell_type": "code",
      "source": [
        "from os import listdir\n",
        "import os"
      ],
      "metadata": {
        "id": "igRbGUxgAKnN"
      },
      "execution_count": 48,
      "outputs": []
    },
    {
      "cell_type": "code",
      "source": [
        "def find_csv_filenames(path_to_dir, suffix=\".csv\"):\n",
        "  \"\"\" return list of filenames that ends with suffix \"\"\"\n",
        "  filenames = listdir(path_to_dir)\n",
        "  return [filename for filename in filenames if filename.endswith(suffix)]\n",
        "\n",
        "# get filename that just wrote (csv file name)\n",
        "path_csv_file_path = path_out_avg + \"/\" + find_csv_filenames(path_out_avg)[0]\n",
        "path_new_file = path_out_avg + \"/\" + \"top_10_states.csv\"\n",
        "\n",
        "# old file name and new file name\n",
        "print(f\"path_csv_file_path: {path_csv_file_path} \\n path_new_file: {path_new_file}\")\n",
        "# rename file\n",
        "os.rename(path_csv_file_path, path_new_file)"
      ],
      "metadata": {
        "colab": {
          "base_uri": "https://localhost:8080/"
        },
        "id": "6GXcHJS8AQGp",
        "outputId": "5cb83134-56f9-4917-e765-8d9bfa00a5bb"
      },
      "execution_count": 51,
      "outputs": [
        {
          "output_type": "stream",
          "name": "stdout",
          "text": [
            "path_csv_file_path: /content/drive/MyDrive/PysparkSource/resultstop_10_corona+dist/part-00000-6757c8b1-d34f-4ed0-bcbb-3dfc0a6f8148-c000.csv \n",
            " path_new_file: /content/drive/MyDrive/PysparkSource/resultstop_10_corona+dist/top_10_states.csv\n"
          ]
        }
      ]
    },
    {
      "cell_type": "code",
      "source": [
        "df_in_state = pd.read_csv(path_new_file)\n",
        "# sample\n",
        "df_in_state.head(5)"
      ],
      "metadata": {
        "colab": {
          "base_uri": "https://localhost:8080/",
          "height": 206
        },
        "id": "FTSiFomoA_lN",
        "outputId": "9dbcd560-688f-461a-ea37-2598cef6ad8a"
      },
      "execution_count": 52,
      "outputs": [
        {
          "output_type": "execute_result",
          "data": {
            "text/plain": [
              "              state            avg\n",
              "0        California  440477.142857\n",
              "1             Texas  301665.535714\n",
              "2           Florida  240923.571429\n",
              "3  Federal Entities  176817.321429\n",
              "4              Ohio  132558.750000"
            ],
            "text/html": [
              "\n",
              "  <div id=\"df-a0921719-e08c-434d-8c14-01932457ef1a\" class=\"colab-df-container\">\n",
              "    <div>\n",
              "<style scoped>\n",
              "    .dataframe tbody tr th:only-of-type {\n",
              "        vertical-align: middle;\n",
              "    }\n",
              "\n",
              "    .dataframe tbody tr th {\n",
              "        vertical-align: top;\n",
              "    }\n",
              "\n",
              "    .dataframe thead th {\n",
              "        text-align: right;\n",
              "    }\n",
              "</style>\n",
              "<table border=\"1\" class=\"dataframe\">\n",
              "  <thead>\n",
              "    <tr style=\"text-align: right;\">\n",
              "      <th></th>\n",
              "      <th>state</th>\n",
              "      <th>avg</th>\n",
              "    </tr>\n",
              "  </thead>\n",
              "  <tbody>\n",
              "    <tr>\n",
              "      <th>0</th>\n",
              "      <td>California</td>\n",
              "      <td>440477.142857</td>\n",
              "    </tr>\n",
              "    <tr>\n",
              "      <th>1</th>\n",
              "      <td>Texas</td>\n",
              "      <td>301665.535714</td>\n",
              "    </tr>\n",
              "    <tr>\n",
              "      <th>2</th>\n",
              "      <td>Florida</td>\n",
              "      <td>240923.571429</td>\n",
              "    </tr>\n",
              "    <tr>\n",
              "      <th>3</th>\n",
              "      <td>Federal Entities</td>\n",
              "      <td>176817.321429</td>\n",
              "    </tr>\n",
              "    <tr>\n",
              "      <th>4</th>\n",
              "      <td>Ohio</td>\n",
              "      <td>132558.750000</td>\n",
              "    </tr>\n",
              "  </tbody>\n",
              "</table>\n",
              "</div>\n",
              "    <div class=\"colab-df-buttons\">\n",
              "\n",
              "  <div class=\"colab-df-container\">\n",
              "    <button class=\"colab-df-convert\" onclick=\"convertToInteractive('df-a0921719-e08c-434d-8c14-01932457ef1a')\"\n",
              "            title=\"Convert this dataframe to an interactive table.\"\n",
              "            style=\"display:none;\">\n",
              "\n",
              "  <svg xmlns=\"http://www.w3.org/2000/svg\" height=\"24px\" viewBox=\"0 -960 960 960\">\n",
              "    <path d=\"M120-120v-720h720v720H120Zm60-500h600v-160H180v160Zm220 220h160v-160H400v160Zm0 220h160v-160H400v160ZM180-400h160v-160H180v160Zm440 0h160v-160H620v160ZM180-180h160v-160H180v160Zm440 0h160v-160H620v160Z\"/>\n",
              "  </svg>\n",
              "    </button>\n",
              "\n",
              "  <style>\n",
              "    .colab-df-container {\n",
              "      display:flex;\n",
              "      gap: 12px;\n",
              "    }\n",
              "\n",
              "    .colab-df-convert {\n",
              "      background-color: #E8F0FE;\n",
              "      border: none;\n",
              "      border-radius: 50%;\n",
              "      cursor: pointer;\n",
              "      display: none;\n",
              "      fill: #1967D2;\n",
              "      height: 32px;\n",
              "      padding: 0 0 0 0;\n",
              "      width: 32px;\n",
              "    }\n",
              "\n",
              "    .colab-df-convert:hover {\n",
              "      background-color: #E2EBFA;\n",
              "      box-shadow: 0px 1px 2px rgba(60, 64, 67, 0.3), 0px 1px 3px 1px rgba(60, 64, 67, 0.15);\n",
              "      fill: #174EA6;\n",
              "    }\n",
              "\n",
              "    .colab-df-buttons div {\n",
              "      margin-bottom: 4px;\n",
              "    }\n",
              "\n",
              "    [theme=dark] .colab-df-convert {\n",
              "      background-color: #3B4455;\n",
              "      fill: #D2E3FC;\n",
              "    }\n",
              "\n",
              "    [theme=dark] .colab-df-convert:hover {\n",
              "      background-color: #434B5C;\n",
              "      box-shadow: 0px 1px 3px 1px rgba(0, 0, 0, 0.15);\n",
              "      filter: drop-shadow(0px 1px 2px rgba(0, 0, 0, 0.3));\n",
              "      fill: #FFFFFF;\n",
              "    }\n",
              "  </style>\n",
              "\n",
              "    <script>\n",
              "      const buttonEl =\n",
              "        document.querySelector('#df-a0921719-e08c-434d-8c14-01932457ef1a button.colab-df-convert');\n",
              "      buttonEl.style.display =\n",
              "        google.colab.kernel.accessAllowed ? 'block' : 'none';\n",
              "\n",
              "      async function convertToInteractive(key) {\n",
              "        const element = document.querySelector('#df-a0921719-e08c-434d-8c14-01932457ef1a');\n",
              "        const dataTable =\n",
              "          await google.colab.kernel.invokeFunction('convertToInteractive',\n",
              "                                                    [key], {});\n",
              "        if (!dataTable) return;\n",
              "\n",
              "        const docLinkHtml = 'Like what you see? Visit the ' +\n",
              "          '<a target=\"_blank\" href=https://colab.research.google.com/notebooks/data_table.ipynb>data table notebook</a>'\n",
              "          + ' to learn more about interactive tables.';\n",
              "        element.innerHTML = '';\n",
              "        dataTable['output_type'] = 'display_data';\n",
              "        await google.colab.output.renderOutput(dataTable, element);\n",
              "        const docLink = document.createElement('div');\n",
              "        docLink.innerHTML = docLinkHtml;\n",
              "        element.appendChild(docLink);\n",
              "      }\n",
              "    </script>\n",
              "  </div>\n",
              "\n",
              "\n",
              "<div id=\"df-67c12daa-14ef-4fe1-969a-58f1b2bd2b6f\">\n",
              "  <button class=\"colab-df-quickchart\" onclick=\"quickchart('df-67c12daa-14ef-4fe1-969a-58f1b2bd2b6f')\"\n",
              "            title=\"Suggest charts\"\n",
              "            style=\"display:none;\">\n",
              "\n",
              "<svg xmlns=\"http://www.w3.org/2000/svg\" height=\"24px\"viewBox=\"0 0 24 24\"\n",
              "     width=\"24px\">\n",
              "    <g>\n",
              "        <path d=\"M19 3H5c-1.1 0-2 .9-2 2v14c0 1.1.9 2 2 2h14c1.1 0 2-.9 2-2V5c0-1.1-.9-2-2-2zM9 17H7v-7h2v7zm4 0h-2V7h2v10zm4 0h-2v-4h2v4z\"/>\n",
              "    </g>\n",
              "</svg>\n",
              "  </button>\n",
              "\n",
              "<style>\n",
              "  .colab-df-quickchart {\n",
              "      --bg-color: #E8F0FE;\n",
              "      --fill-color: #1967D2;\n",
              "      --hover-bg-color: #E2EBFA;\n",
              "      --hover-fill-color: #174EA6;\n",
              "      --disabled-fill-color: #AAA;\n",
              "      --disabled-bg-color: #DDD;\n",
              "  }\n",
              "\n",
              "  [theme=dark] .colab-df-quickchart {\n",
              "      --bg-color: #3B4455;\n",
              "      --fill-color: #D2E3FC;\n",
              "      --hover-bg-color: #434B5C;\n",
              "      --hover-fill-color: #FFFFFF;\n",
              "      --disabled-bg-color: #3B4455;\n",
              "      --disabled-fill-color: #666;\n",
              "  }\n",
              "\n",
              "  .colab-df-quickchart {\n",
              "    background-color: var(--bg-color);\n",
              "    border: none;\n",
              "    border-radius: 50%;\n",
              "    cursor: pointer;\n",
              "    display: none;\n",
              "    fill: var(--fill-color);\n",
              "    height: 32px;\n",
              "    padding: 0;\n",
              "    width: 32px;\n",
              "  }\n",
              "\n",
              "  .colab-df-quickchart:hover {\n",
              "    background-color: var(--hover-bg-color);\n",
              "    box-shadow: 0 1px 2px rgba(60, 64, 67, 0.3), 0 1px 3px 1px rgba(60, 64, 67, 0.15);\n",
              "    fill: var(--button-hover-fill-color);\n",
              "  }\n",
              "\n",
              "  .colab-df-quickchart-complete:disabled,\n",
              "  .colab-df-quickchart-complete:disabled:hover {\n",
              "    background-color: var(--disabled-bg-color);\n",
              "    fill: var(--disabled-fill-color);\n",
              "    box-shadow: none;\n",
              "  }\n",
              "\n",
              "  .colab-df-spinner {\n",
              "    border: 2px solid var(--fill-color);\n",
              "    border-color: transparent;\n",
              "    border-bottom-color: var(--fill-color);\n",
              "    animation:\n",
              "      spin 1s steps(1) infinite;\n",
              "  }\n",
              "\n",
              "  @keyframes spin {\n",
              "    0% {\n",
              "      border-color: transparent;\n",
              "      border-bottom-color: var(--fill-color);\n",
              "      border-left-color: var(--fill-color);\n",
              "    }\n",
              "    20% {\n",
              "      border-color: transparent;\n",
              "      border-left-color: var(--fill-color);\n",
              "      border-top-color: var(--fill-color);\n",
              "    }\n",
              "    30% {\n",
              "      border-color: transparent;\n",
              "      border-left-color: var(--fill-color);\n",
              "      border-top-color: var(--fill-color);\n",
              "      border-right-color: var(--fill-color);\n",
              "    }\n",
              "    40% {\n",
              "      border-color: transparent;\n",
              "      border-right-color: var(--fill-color);\n",
              "      border-top-color: var(--fill-color);\n",
              "    }\n",
              "    60% {\n",
              "      border-color: transparent;\n",
              "      border-right-color: var(--fill-color);\n",
              "    }\n",
              "    80% {\n",
              "      border-color: transparent;\n",
              "      border-right-color: var(--fill-color);\n",
              "      border-bottom-color: var(--fill-color);\n",
              "    }\n",
              "    90% {\n",
              "      border-color: transparent;\n",
              "      border-bottom-color: var(--fill-color);\n",
              "    }\n",
              "  }\n",
              "</style>\n",
              "\n",
              "  <script>\n",
              "    async function quickchart(key) {\n",
              "      const quickchartButtonEl =\n",
              "        document.querySelector('#' + key + ' button');\n",
              "      quickchartButtonEl.disabled = true;  // To prevent multiple clicks.\n",
              "      quickchartButtonEl.classList.add('colab-df-spinner');\n",
              "      try {\n",
              "        const charts = await google.colab.kernel.invokeFunction(\n",
              "            'suggestCharts', [key], {});\n",
              "      } catch (error) {\n",
              "        console.error('Error during call to suggestCharts:', error);\n",
              "      }\n",
              "      quickchartButtonEl.classList.remove('colab-df-spinner');\n",
              "      quickchartButtonEl.classList.add('colab-df-quickchart-complete');\n",
              "    }\n",
              "    (() => {\n",
              "      let quickchartButtonEl =\n",
              "        document.querySelector('#df-67c12daa-14ef-4fe1-969a-58f1b2bd2b6f button');\n",
              "      quickchartButtonEl.style.display =\n",
              "        google.colab.kernel.accessAllowed ? 'block' : 'none';\n",
              "    })();\n",
              "  </script>\n",
              "</div>\n",
              "\n",
              "    </div>\n",
              "  </div>\n"
            ]
          },
          "metadata": {},
          "execution_count": 52
        }
      ]
    },
    {
      "cell_type": "code",
      "source": [
        "# calculate avg for each state (the input file already have avg)\n",
        "# just example tp use pandas to do same operation of average\n",
        "df_in_top10 = df_in_state.groupby(\"state\")[\"avg\"].mean().to_frame(\"avg\").reset_index()\n",
        "df_in_top10.head(5)"
      ],
      "metadata": {
        "colab": {
          "base_uri": "https://localhost:8080/",
          "height": 206
        },
        "id": "XsaciCDgBktC",
        "outputId": "1335ee93-8c73-4954-865b-eb3f4c73966b"
      },
      "execution_count": 53,
      "outputs": [
        {
          "output_type": "execute_result",
          "data": {
            "text/plain": [
              "              state            avg\n",
              "0        California  440477.142857\n",
              "1  Federal Entities  176817.321429\n",
              "2           Florida  240923.571429\n",
              "3           Georgia  114635.357143\n",
              "4          Illinois  114705.000000"
            ],
            "text/html": [
              "\n",
              "  <div id=\"df-24071fde-b90c-4f23-bd38-90cb794ef4dd\" class=\"colab-df-container\">\n",
              "    <div>\n",
              "<style scoped>\n",
              "    .dataframe tbody tr th:only-of-type {\n",
              "        vertical-align: middle;\n",
              "    }\n",
              "\n",
              "    .dataframe tbody tr th {\n",
              "        vertical-align: top;\n",
              "    }\n",
              "\n",
              "    .dataframe thead th {\n",
              "        text-align: right;\n",
              "    }\n",
              "</style>\n",
              "<table border=\"1\" class=\"dataframe\">\n",
              "  <thead>\n",
              "    <tr style=\"text-align: right;\">\n",
              "      <th></th>\n",
              "      <th>state</th>\n",
              "      <th>avg</th>\n",
              "    </tr>\n",
              "  </thead>\n",
              "  <tbody>\n",
              "    <tr>\n",
              "      <th>0</th>\n",
              "      <td>California</td>\n",
              "      <td>440477.142857</td>\n",
              "    </tr>\n",
              "    <tr>\n",
              "      <th>1</th>\n",
              "      <td>Federal Entities</td>\n",
              "      <td>176817.321429</td>\n",
              "    </tr>\n",
              "    <tr>\n",
              "      <th>2</th>\n",
              "      <td>Florida</td>\n",
              "      <td>240923.571429</td>\n",
              "    </tr>\n",
              "    <tr>\n",
              "      <th>3</th>\n",
              "      <td>Georgia</td>\n",
              "      <td>114635.357143</td>\n",
              "    </tr>\n",
              "    <tr>\n",
              "      <th>4</th>\n",
              "      <td>Illinois</td>\n",
              "      <td>114705.000000</td>\n",
              "    </tr>\n",
              "  </tbody>\n",
              "</table>\n",
              "</div>\n",
              "    <div class=\"colab-df-buttons\">\n",
              "\n",
              "  <div class=\"colab-df-container\">\n",
              "    <button class=\"colab-df-convert\" onclick=\"convertToInteractive('df-24071fde-b90c-4f23-bd38-90cb794ef4dd')\"\n",
              "            title=\"Convert this dataframe to an interactive table.\"\n",
              "            style=\"display:none;\">\n",
              "\n",
              "  <svg xmlns=\"http://www.w3.org/2000/svg\" height=\"24px\" viewBox=\"0 -960 960 960\">\n",
              "    <path d=\"M120-120v-720h720v720H120Zm60-500h600v-160H180v160Zm220 220h160v-160H400v160Zm0 220h160v-160H400v160ZM180-400h160v-160H180v160Zm440 0h160v-160H620v160ZM180-180h160v-160H180v160Zm440 0h160v-160H620v160Z\"/>\n",
              "  </svg>\n",
              "    </button>\n",
              "\n",
              "  <style>\n",
              "    .colab-df-container {\n",
              "      display:flex;\n",
              "      gap: 12px;\n",
              "    }\n",
              "\n",
              "    .colab-df-convert {\n",
              "      background-color: #E8F0FE;\n",
              "      border: none;\n",
              "      border-radius: 50%;\n",
              "      cursor: pointer;\n",
              "      display: none;\n",
              "      fill: #1967D2;\n",
              "      height: 32px;\n",
              "      padding: 0 0 0 0;\n",
              "      width: 32px;\n",
              "    }\n",
              "\n",
              "    .colab-df-convert:hover {\n",
              "      background-color: #E2EBFA;\n",
              "      box-shadow: 0px 1px 2px rgba(60, 64, 67, 0.3), 0px 1px 3px 1px rgba(60, 64, 67, 0.15);\n",
              "      fill: #174EA6;\n",
              "    }\n",
              "\n",
              "    .colab-df-buttons div {\n",
              "      margin-bottom: 4px;\n",
              "    }\n",
              "\n",
              "    [theme=dark] .colab-df-convert {\n",
              "      background-color: #3B4455;\n",
              "      fill: #D2E3FC;\n",
              "    }\n",
              "\n",
              "    [theme=dark] .colab-df-convert:hover {\n",
              "      background-color: #434B5C;\n",
              "      box-shadow: 0px 1px 3px 1px rgba(0, 0, 0, 0.15);\n",
              "      filter: drop-shadow(0px 1px 2px rgba(0, 0, 0, 0.3));\n",
              "      fill: #FFFFFF;\n",
              "    }\n",
              "  </style>\n",
              "\n",
              "    <script>\n",
              "      const buttonEl =\n",
              "        document.querySelector('#df-24071fde-b90c-4f23-bd38-90cb794ef4dd button.colab-df-convert');\n",
              "      buttonEl.style.display =\n",
              "        google.colab.kernel.accessAllowed ? 'block' : 'none';\n",
              "\n",
              "      async function convertToInteractive(key) {\n",
              "        const element = document.querySelector('#df-24071fde-b90c-4f23-bd38-90cb794ef4dd');\n",
              "        const dataTable =\n",
              "          await google.colab.kernel.invokeFunction('convertToInteractive',\n",
              "                                                    [key], {});\n",
              "        if (!dataTable) return;\n",
              "\n",
              "        const docLinkHtml = 'Like what you see? Visit the ' +\n",
              "          '<a target=\"_blank\" href=https://colab.research.google.com/notebooks/data_table.ipynb>data table notebook</a>'\n",
              "          + ' to learn more about interactive tables.';\n",
              "        element.innerHTML = '';\n",
              "        dataTable['output_type'] = 'display_data';\n",
              "        await google.colab.output.renderOutput(dataTable, element);\n",
              "        const docLink = document.createElement('div');\n",
              "        docLink.innerHTML = docLinkHtml;\n",
              "        element.appendChild(docLink);\n",
              "      }\n",
              "    </script>\n",
              "  </div>\n",
              "\n",
              "\n",
              "<div id=\"df-5c1bde07-7d4a-46e4-b106-e95c22943f0f\">\n",
              "  <button class=\"colab-df-quickchart\" onclick=\"quickchart('df-5c1bde07-7d4a-46e4-b106-e95c22943f0f')\"\n",
              "            title=\"Suggest charts\"\n",
              "            style=\"display:none;\">\n",
              "\n",
              "<svg xmlns=\"http://www.w3.org/2000/svg\" height=\"24px\"viewBox=\"0 0 24 24\"\n",
              "     width=\"24px\">\n",
              "    <g>\n",
              "        <path d=\"M19 3H5c-1.1 0-2 .9-2 2v14c0 1.1.9 2 2 2h14c1.1 0 2-.9 2-2V5c0-1.1-.9-2-2-2zM9 17H7v-7h2v7zm4 0h-2V7h2v10zm4 0h-2v-4h2v4z\"/>\n",
              "    </g>\n",
              "</svg>\n",
              "  </button>\n",
              "\n",
              "<style>\n",
              "  .colab-df-quickchart {\n",
              "      --bg-color: #E8F0FE;\n",
              "      --fill-color: #1967D2;\n",
              "      --hover-bg-color: #E2EBFA;\n",
              "      --hover-fill-color: #174EA6;\n",
              "      --disabled-fill-color: #AAA;\n",
              "      --disabled-bg-color: #DDD;\n",
              "  }\n",
              "\n",
              "  [theme=dark] .colab-df-quickchart {\n",
              "      --bg-color: #3B4455;\n",
              "      --fill-color: #D2E3FC;\n",
              "      --hover-bg-color: #434B5C;\n",
              "      --hover-fill-color: #FFFFFF;\n",
              "      --disabled-bg-color: #3B4455;\n",
              "      --disabled-fill-color: #666;\n",
              "  }\n",
              "\n",
              "  .colab-df-quickchart {\n",
              "    background-color: var(--bg-color);\n",
              "    border: none;\n",
              "    border-radius: 50%;\n",
              "    cursor: pointer;\n",
              "    display: none;\n",
              "    fill: var(--fill-color);\n",
              "    height: 32px;\n",
              "    padding: 0;\n",
              "    width: 32px;\n",
              "  }\n",
              "\n",
              "  .colab-df-quickchart:hover {\n",
              "    background-color: var(--hover-bg-color);\n",
              "    box-shadow: 0 1px 2px rgba(60, 64, 67, 0.3), 0 1px 3px 1px rgba(60, 64, 67, 0.15);\n",
              "    fill: var(--button-hover-fill-color);\n",
              "  }\n",
              "\n",
              "  .colab-df-quickchart-complete:disabled,\n",
              "  .colab-df-quickchart-complete:disabled:hover {\n",
              "    background-color: var(--disabled-bg-color);\n",
              "    fill: var(--disabled-fill-color);\n",
              "    box-shadow: none;\n",
              "  }\n",
              "\n",
              "  .colab-df-spinner {\n",
              "    border: 2px solid var(--fill-color);\n",
              "    border-color: transparent;\n",
              "    border-bottom-color: var(--fill-color);\n",
              "    animation:\n",
              "      spin 1s steps(1) infinite;\n",
              "  }\n",
              "\n",
              "  @keyframes spin {\n",
              "    0% {\n",
              "      border-color: transparent;\n",
              "      border-bottom-color: var(--fill-color);\n",
              "      border-left-color: var(--fill-color);\n",
              "    }\n",
              "    20% {\n",
              "      border-color: transparent;\n",
              "      border-left-color: var(--fill-color);\n",
              "      border-top-color: var(--fill-color);\n",
              "    }\n",
              "    30% {\n",
              "      border-color: transparent;\n",
              "      border-left-color: var(--fill-color);\n",
              "      border-top-color: var(--fill-color);\n",
              "      border-right-color: var(--fill-color);\n",
              "    }\n",
              "    40% {\n",
              "      border-color: transparent;\n",
              "      border-right-color: var(--fill-color);\n",
              "      border-top-color: var(--fill-color);\n",
              "    }\n",
              "    60% {\n",
              "      border-color: transparent;\n",
              "      border-right-color: var(--fill-color);\n",
              "    }\n",
              "    80% {\n",
              "      border-color: transparent;\n",
              "      border-right-color: var(--fill-color);\n",
              "      border-bottom-color: var(--fill-color);\n",
              "    }\n",
              "    90% {\n",
              "      border-color: transparent;\n",
              "      border-bottom-color: var(--fill-color);\n",
              "    }\n",
              "  }\n",
              "</style>\n",
              "\n",
              "  <script>\n",
              "    async function quickchart(key) {\n",
              "      const quickchartButtonEl =\n",
              "        document.querySelector('#' + key + ' button');\n",
              "      quickchartButtonEl.disabled = true;  // To prevent multiple clicks.\n",
              "      quickchartButtonEl.classList.add('colab-df-spinner');\n",
              "      try {\n",
              "        const charts = await google.colab.kernel.invokeFunction(\n",
              "            'suggestCharts', [key], {});\n",
              "      } catch (error) {\n",
              "        console.error('Error during call to suggestCharts:', error);\n",
              "      }\n",
              "      quickchartButtonEl.classList.remove('colab-df-spinner');\n",
              "      quickchartButtonEl.classList.add('colab-df-quickchart-complete');\n",
              "    }\n",
              "    (() => {\n",
              "      let quickchartButtonEl =\n",
              "        document.querySelector('#df-5c1bde07-7d4a-46e4-b106-e95c22943f0f button');\n",
              "      quickchartButtonEl.style.display =\n",
              "        google.colab.kernel.accessAllowed ? 'block' : 'none';\n",
              "    })();\n",
              "  </script>\n",
              "</div>\n",
              "\n",
              "    </div>\n",
              "  </div>\n"
            ]
          },
          "metadata": {},
          "execution_count": 53
        }
      ]
    },
    {
      "cell_type": "code",
      "source": [
        "path_new_file_pd = path_out_avg + \"/\" + \"top_10_states_pandas.csv\"\n",
        "print(f\"output to {path_new_file_pd}\")\n",
        "# write pandas df to csv\n",
        "df_in_top10.to_csv(path_new_file_pd)"
      ],
      "metadata": {
        "colab": {
          "base_uri": "https://localhost:8080/"
        },
        "id": "ND34P6ZvB6EL",
        "outputId": "52d23d49-2b3b-45ca-fd69-959882a99e59"
      },
      "execution_count": 54,
      "outputs": [
        {
          "output_type": "stream",
          "name": "stdout",
          "text": [
            "output to /content/drive/MyDrive/PysparkSource/resultstop_10_corona+dist/top_10_states_pandas.csv\n"
          ]
        }
      ]
    },
    {
      "cell_type": "markdown",
      "source": [
        "## Spark: Average of 1st and 2nd DOSE"
      ],
      "metadata": {
        "id": "vsEOBHv3CWpR"
      }
    },
    {
      "cell_type": "code",
      "source": [
        "# for each state, calculate average # 1st dose, average 2nd dose\n",
        "print(list(df_covid))"
      ],
      "metadata": {
        "colab": {
          "base_uri": "https://localhost:8080/"
        },
        "id": "cZ9E1ddZCSWb",
        "outputId": "a2794458-f8ab-4989-a3ae-403448f1770e"
      },
      "execution_count": 55,
      "outputs": [
        {
          "output_type": "stream",
          "name": "stdout",
          "text": [
            "[Column<'Jurisdiction'>, Column<'Week of Allocations'>, Column<'1st Dose Allocations'>, Column<'2nd Dose Allocations'>]\n"
          ]
        }
      ]
    },
    {
      "cell_type": "code",
      "source": [
        "# calculate average weekly 1st dose vaccine distribution\n",
        "df_avg = df_covid.groupby(F.lower(\"jurisdiction\").alias(\"state\"))\\\n",
        "          .agg(F.avg(\"1st Dose Allocations\").alias(\"avg_1\"), \\\n",
        "               F.avg(\"2nd Dose Allocations\").alias(\"avg_2\"), \\\n",
        "               F.sum(\"1st Dose Allocations\").alias(\"sum_1\"), \\\n",
        "               F.avg(\"2nd Dose Allocations\").alias(\"sum_2\"), \\\n",
        "               ).sort(F.col(\"avg_1\").desc())"
      ],
      "metadata": {
        "id": "_m3fgjJiChi3"
      },
      "execution_count": 57,
      "outputs": []
    },
    {
      "cell_type": "code",
      "source": [
        "df_avg.show(15)"
      ],
      "metadata": {
        "colab": {
          "base_uri": "https://localhost:8080/"
        },
        "id": "OcBE9QpKDIhC",
        "outputId": "547ffae7-99cd-4180-980c-527f6894ef69"
      },
      "execution_count": 58,
      "outputs": [
        {
          "output_type": "stream",
          "name": "stdout",
          "text": [
            "+----------------+------------------+------------------+----------+------------------+\n",
            "|           state|             avg_1|             avg_2|     sum_1|             sum_2|\n",
            "+----------------+------------------+------------------+----------+------------------+\n",
            "|      california|440477.14285714284|440477.14285714284|1.233336E7|440477.14285714284|\n",
            "|           texas|301665.53571428574|301665.53571428574| 8446635.0|301665.53571428574|\n",
            "|         florida|240923.57142857142|240923.57142857142| 6745860.0|240923.57142857142|\n",
            "|federal entities|176817.32142857142|174212.67857142858| 4950885.0|174212.67857142858|\n",
            "|            ohio|         132558.75|         132558.75| 3711645.0|         132558.75|\n",
            "|    pennsylvania|         130563.75|         130563.75| 3655785.0|         130563.75|\n",
            "|        new york|128911.60714285714|128911.60714285714| 3609525.0|128911.60714285714|\n",
            "|  north carolina|115493.57142857143|115493.57142857143| 3233820.0|115493.57142857143|\n",
            "|        illinois|          114705.0|          114705.0| 3211740.0|          114705.0|\n",
            "|         georgia|114635.35714285714|114635.35714285714| 3209790.0|114635.35714285714|\n",
            "|        michigan|113763.21428571429|113763.21428571429| 3185370.0|113763.21428571429|\n",
            "|      new jersey|101427.85714285714|101427.85714285714| 2839980.0|101427.85714285714|\n",
            "|   new york city| 98183.03571428571| 98183.03571428571| 2749125.0| 98183.03571428571|\n",
            "|        virginia| 96410.89285714286| 96410.89285714286| 2699505.0| 96410.89285714286|\n",
            "|      washington| 84688.39285714286| 84688.39285714286| 2371275.0| 84688.39285714286|\n",
            "+----------------+------------------+------------------+----------+------------------+\n",
            "only showing top 15 rows\n",
            "\n"
          ]
        }
      ]
    },
    {
      "cell_type": "markdown",
      "source": [
        "## Spark: equi join first covid dataset and second covid dataset"
      ],
      "metadata": {
        "id": "CvciQn-kEeiI"
      }
    },
    {
      "cell_type": "code",
      "source": [
        "print(df_covid2.show(2))\n",
        "# groupby Sex\n",
        "df_cases = df_covid2.groupby(F.lower(\"state\").alias(\"state\")).agg(F.sum(\"deaths\").alias(\"sum_deaths\"), F.sum(\"cases\").alias(\"sum_cases\"))"
      ],
      "metadata": {
        "colab": {
          "base_uri": "https://localhost:8080/"
        },
        "id": "zowYzucuDXXJ",
        "outputId": "b8e76292-5023-4280-fe3f-8b9a05fd9944"
      },
      "execution_count": 59,
      "outputs": [
        {
          "output_type": "stream",
          "name": "stdout",
          "text": [
            "+----------+---------+----------+-----+-----+------+\n",
            "|      date|   county|     state| fips|cases|deaths|\n",
            "+----------+---------+----------+-----+-----+------+\n",
            "|2020-01-21|Snohomish|Washington|53061|    1|     0|\n",
            "|2020-01-22|Snohomish|Washington|53061|    1|     0|\n",
            "+----------+---------+----------+-----+-----+------+\n",
            "only showing top 2 rows\n",
            "\n",
            "None\n"
          ]
        }
      ]
    },
    {
      "cell_type": "code",
      "source": [
        "df_cases.show(n=3)"
      ],
      "metadata": {
        "colab": {
          "base_uri": "https://localhost:8080/"
        },
        "id": "NDWLWDhHE9cr",
        "outputId": "d6d90648-4fe9-46ae-dc9d-b7517c9ad964"
      },
      "execution_count": 61,
      "outputs": [
        {
          "output_type": "stream",
          "name": "stdout",
          "text": [
            "+-------------+----------+------------+\n",
            "|        state|sum_deaths|   sum_cases|\n",
            "+-------------+----------+------------+\n",
            "|west virginia| 2077693.0|1.35395313E8|\n",
            "|new hampshire|  913568.0| 7.9409942E7|\n",
            "|      alabama| 7294870.0|4.23771271E8|\n",
            "+-------------+----------+------------+\n",
            "only showing top 3 rows\n",
            "\n"
          ]
        }
      ]
    },
    {
      "cell_type": "markdown",
      "source": [
        "## Spark inner join example & left join example"
      ],
      "metadata": {
        "id": "KWfdAynkFJkZ"
      }
    },
    {
      "cell_type": "code",
      "source": [
        "# get total distinct states from covid (modrena) dataset and covid (ny) dataset\n",
        "c1 = df_avg.select(\"state\").distinct().count()\n",
        "c2 = df_cases.select(\"state\").distinct().count()\n",
        "print(f\"c1: {c1} c2: {c2}\")"
      ],
      "metadata": {
        "colab": {
          "base_uri": "https://localhost:8080/"
        },
        "id": "hr-o0gnpFA4f",
        "outputId": "c11e9bb6-853a-4143-d53f-daf03d5b2414"
      },
      "execution_count": 62,
      "outputs": [
        {
          "output_type": "stream",
          "name": "stdout",
          "text": [
            "c1: 63 c2: 56\n"
          ]
        }
      ]
    },
    {
      "cell_type": "code",
      "source": [
        "# create an alias for each of the Dataframe to be joined\n",
        "df_m = df_avg.alias(\"df_m\")\n",
        "df_ny = df_cases.alias(\"df_ny\")"
      ],
      "metadata": {
        "id": "tgA6gkirFitB"
      },
      "execution_count": 63,
      "outputs": []
    },
    {
      "cell_type": "code",
      "source": [
        "print(\"EQUI JOIN\")\n",
        "# EQUI JOIn / INNER JOIN => only matched on both side (DATAFRAME) on column \"state\"\n",
        "df_inner = df_m.join(df_ny, F.col(\"df_m.state\") == F.col(\"df_ny.state\"), 'inner')"
      ],
      "metadata": {
        "colab": {
          "base_uri": "https://localhost:8080/"
        },
        "id": "OEqp3a_SFwXA",
        "outputId": "f79792d2-ca49-4b8f-8543-865464f5b4de"
      },
      "execution_count": 65,
      "outputs": [
        {
          "output_type": "stream",
          "name": "stdout",
          "text": [
            "EQUI JOIN\n"
          ]
        }
      ]
    },
    {
      "cell_type": "code",
      "source": [
        "lst_interest = [\"df_m.state\", \"df_ny.state\", \"df_m.avg_1\", \"df_m.avg_2\", \"df_ny.sum_deaths\", \"df_ny.sum_cases\"]\n",
        "# print all states\n",
        "df_inner.select(*lst_interest).show(n=5, truncate=False)"
      ],
      "metadata": {
        "colab": {
          "base_uri": "https://localhost:8080/"
        },
        "id": "L6jjPm4yGHVQ",
        "outputId": "f729776e-6634-4b5c-de86-263707f153d6"
      },
      "execution_count": 67,
      "outputs": [
        {
          "output_type": "stream",
          "name": "stdout",
          "text": [
            "+--------------+--------------+------------------+------------------+-----------+-------------+\n",
            "|state         |state         |avg_1             |avg_2             |sum_deaths |sum_cases    |\n",
            "+--------------+--------------+------------------+------------------+-----------+-------------+\n",
            "|west virginia |west virginia |21733.928571428572|21733.928571428572|2077693.0  |1.35395313E8 |\n",
            "|new hampshire |new hampshire |16264.285714285714|16264.285714285714|913568.0   |7.9409942E7  |\n",
            "|alabama       |alabama       |55455.0           |55455.0           |7294870.0  |4.23771271E8 |\n",
            "|new york      |new york      |128911.60714285714|128911.60714285714|3.5976831E7|1.546095621E9|\n",
            "|american samoa|american samoa|1518.2142857142858|0.0               |624.0      |268683.0     |\n",
            "+--------------+--------------+------------------+------------------+-----------+-------------+\n",
            "only showing top 5 rows\n",
            "\n"
          ]
        }
      ]
    },
    {
      "cell_type": "code",
      "source": [
        "# total distinct state count\n",
        "c_inner = df_inner.select(\"df_m.state\").distinct().count()\n",
        "print(f\"Total # states after inner join: {c_inner}\")"
      ],
      "metadata": {
        "colab": {
          "base_uri": "https://localhost:8080/"
        },
        "id": "Rx7V9Q22Gem9",
        "outputId": "f69f78d3-1b22-49c6-da20-25563e3e8382"
      },
      "execution_count": 68,
      "outputs": [
        {
          "output_type": "stream",
          "name": "stdout",
          "text": [
            "Total # states after inner join: 54\n"
          ]
        }
      ]
    },
    {
      "cell_type": "code",
      "source": [
        "print(\"LEFT JOIN\")\n",
        "# LEFT JOIN => all rows on the left side table, right side table not having matched values will be \"null\"\n",
        "df_left = df_m.join(df_ny, F.col(\"df_m.state\") == F.col(\"df_ny.state\"), 'left')\n",
        "df_left.show(n=5)\n",
        "\n",
        "# total distinct states count\n",
        "c_left = df_left.select(\"df_m.state\").distinct().count()\n",
        "print(f\"Total # states after inner join: {c_left}\")"
      ],
      "metadata": {
        "colab": {
          "base_uri": "https://localhost:8080/"
        },
        "id": "itH4wi2QG07i",
        "outputId": "a2bab26f-ef44-4209-f0c4-bd8cbe3f25de"
      },
      "execution_count": 69,
      "outputs": [
        {
          "output_type": "stream",
          "name": "stdout",
          "text": [
            "LEFT JOIN\n",
            "+---------------+------------------+------------------+---------+------------------+-------------+-----------+-------------+\n",
            "|          state|             avg_1|             avg_2|    sum_1|             sum_2|        state| sum_deaths|    sum_cases|\n",
            "+---------------+------------------+------------------+---------+------------------+-------------+-----------+-------------+\n",
            "|  west virginia|21733.928571428572|21733.928571428572| 608550.0|21733.928571428572|west virginia|  2077693.0| 1.35395313E8|\n",
            "|  new hampshire|16264.285714285714|16264.285714285714| 455400.0|16264.285714285714|new hampshire|   913568.0|  7.9409942E7|\n",
            "|mariana islands|1518.2142857142858|               0.0|  42510.0|               0.0|         NULL|       NULL|         NULL|\n",
            "|        alabama|           55455.0|           55455.0|1552740.0|           55455.0|      alabama|  7294870.0| 4.23771271E8|\n",
            "|       new york|128911.60714285714|128911.60714285714|3609525.0|128911.60714285714|     new york|3.5976831E7|1.546095621E9|\n",
            "+---------------+------------------+------------------+---------+------------------+-------------+-----------+-------------+\n",
            "only showing top 5 rows\n",
            "\n",
            "Total # states after inner join: 63\n"
          ]
        }
      ]
    },
    {
      "cell_type": "code",
      "source": [],
      "metadata": {
        "id": "dtscX1mZHUnF"
      },
      "execution_count": null,
      "outputs": []
    }
  ]
}