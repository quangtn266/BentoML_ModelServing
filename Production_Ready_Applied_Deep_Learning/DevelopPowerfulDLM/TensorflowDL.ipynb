{
  "nbformat": 4,
  "nbformat_minor": 0,
  "metadata": {
    "colab": {
      "provenance": []
    },
    "kernelspec": {
      "name": "python3",
      "display_name": "Python 3"
    },
    "language_info": {
      "name": "python"
    },
    "widgets": {
      "application/vnd.jupyter.widget-state+json": {
        "afa1a1849b484775990f3def9fa17ffe": {
          "model_module": "@jupyter-widgets/controls",
          "model_name": "HBoxModel",
          "model_module_version": "1.5.0",
          "state": {
            "_dom_classes": [],
            "_model_module": "@jupyter-widgets/controls",
            "_model_module_version": "1.5.0",
            "_model_name": "HBoxModel",
            "_view_count": null,
            "_view_module": "@jupyter-widgets/controls",
            "_view_module_version": "1.5.0",
            "_view_name": "HBoxView",
            "box_style": "",
            "children": [
              "IPY_MODEL_3008be07aeb14cd7959163f40ff03334",
              "IPY_MODEL_20547c4a6d5d476797408594d3d5115e",
              "IPY_MODEL_cd934565b00941fb895826d692daad15"
            ],
            "layout": "IPY_MODEL_65f7a718c8d747e7b8b38b056c2c621b"
          }
        },
        "3008be07aeb14cd7959163f40ff03334": {
          "model_module": "@jupyter-widgets/controls",
          "model_name": "HTMLModel",
          "model_module_version": "1.5.0",
          "state": {
            "_dom_classes": [],
            "_model_module": "@jupyter-widgets/controls",
            "_model_module_version": "1.5.0",
            "_model_name": "HTMLModel",
            "_view_count": null,
            "_view_module": "@jupyter-widgets/controls",
            "_view_module_version": "1.5.0",
            "_view_name": "HTMLView",
            "description": "",
            "description_tooltip": null,
            "layout": "IPY_MODEL_de1dec939eef4334b08d62336c7e7188",
            "placeholder": "​",
            "style": "IPY_MODEL_4661faf6e24c4a8bb097c2b82d0aa5fa",
            "value": "Dl Completed...: 100%"
          }
        },
        "20547c4a6d5d476797408594d3d5115e": {
          "model_module": "@jupyter-widgets/controls",
          "model_name": "FloatProgressModel",
          "model_module_version": "1.5.0",
          "state": {
            "_dom_classes": [],
            "_model_module": "@jupyter-widgets/controls",
            "_model_module_version": "1.5.0",
            "_model_name": "FloatProgressModel",
            "_view_count": null,
            "_view_module": "@jupyter-widgets/controls",
            "_view_module_version": "1.5.0",
            "_view_name": "ProgressView",
            "bar_style": "success",
            "description": "",
            "description_tooltip": null,
            "layout": "IPY_MODEL_4b51f8cffa0645ed8e98e05371ac7a8d",
            "max": 5,
            "min": 0,
            "orientation": "horizontal",
            "style": "IPY_MODEL_14b35db23692410abcbbac3405fd1b73",
            "value": 5
          }
        },
        "cd934565b00941fb895826d692daad15": {
          "model_module": "@jupyter-widgets/controls",
          "model_name": "HTMLModel",
          "model_module_version": "1.5.0",
          "state": {
            "_dom_classes": [],
            "_model_module": "@jupyter-widgets/controls",
            "_model_module_version": "1.5.0",
            "_model_name": "HTMLModel",
            "_view_count": null,
            "_view_module": "@jupyter-widgets/controls",
            "_view_module_version": "1.5.0",
            "_view_name": "HTMLView",
            "description": "",
            "description_tooltip": null,
            "layout": "IPY_MODEL_bc9b2c8c81f344918d150184c517c611",
            "placeholder": "​",
            "style": "IPY_MODEL_e82675a125ae483aa1cd50b0bc8bc381",
            "value": " 5/5 [00:00&lt;00:00, 14.73 file/s]"
          }
        },
        "65f7a718c8d747e7b8b38b056c2c621b": {
          "model_module": "@jupyter-widgets/base",
          "model_name": "LayoutModel",
          "model_module_version": "1.2.0",
          "state": {
            "_model_module": "@jupyter-widgets/base",
            "_model_module_version": "1.2.0",
            "_model_name": "LayoutModel",
            "_view_count": null,
            "_view_module": "@jupyter-widgets/base",
            "_view_module_version": "1.2.0",
            "_view_name": "LayoutView",
            "align_content": null,
            "align_items": null,
            "align_self": null,
            "border": null,
            "bottom": null,
            "display": null,
            "flex": null,
            "flex_flow": null,
            "grid_area": null,
            "grid_auto_columns": null,
            "grid_auto_flow": null,
            "grid_auto_rows": null,
            "grid_column": null,
            "grid_gap": null,
            "grid_row": null,
            "grid_template_areas": null,
            "grid_template_columns": null,
            "grid_template_rows": null,
            "height": null,
            "justify_content": null,
            "justify_items": null,
            "left": null,
            "margin": null,
            "max_height": null,
            "max_width": null,
            "min_height": null,
            "min_width": null,
            "object_fit": null,
            "object_position": null,
            "order": null,
            "overflow": null,
            "overflow_x": null,
            "overflow_y": null,
            "padding": null,
            "right": null,
            "top": null,
            "visibility": null,
            "width": null
          }
        },
        "de1dec939eef4334b08d62336c7e7188": {
          "model_module": "@jupyter-widgets/base",
          "model_name": "LayoutModel",
          "model_module_version": "1.2.0",
          "state": {
            "_model_module": "@jupyter-widgets/base",
            "_model_module_version": "1.2.0",
            "_model_name": "LayoutModel",
            "_view_count": null,
            "_view_module": "@jupyter-widgets/base",
            "_view_module_version": "1.2.0",
            "_view_name": "LayoutView",
            "align_content": null,
            "align_items": null,
            "align_self": null,
            "border": null,
            "bottom": null,
            "display": null,
            "flex": null,
            "flex_flow": null,
            "grid_area": null,
            "grid_auto_columns": null,
            "grid_auto_flow": null,
            "grid_auto_rows": null,
            "grid_column": null,
            "grid_gap": null,
            "grid_row": null,
            "grid_template_areas": null,
            "grid_template_columns": null,
            "grid_template_rows": null,
            "height": null,
            "justify_content": null,
            "justify_items": null,
            "left": null,
            "margin": null,
            "max_height": null,
            "max_width": null,
            "min_height": null,
            "min_width": null,
            "object_fit": null,
            "object_position": null,
            "order": null,
            "overflow": null,
            "overflow_x": null,
            "overflow_y": null,
            "padding": null,
            "right": null,
            "top": null,
            "visibility": null,
            "width": null
          }
        },
        "4661faf6e24c4a8bb097c2b82d0aa5fa": {
          "model_module": "@jupyter-widgets/controls",
          "model_name": "DescriptionStyleModel",
          "model_module_version": "1.5.0",
          "state": {
            "_model_module": "@jupyter-widgets/controls",
            "_model_module_version": "1.5.0",
            "_model_name": "DescriptionStyleModel",
            "_view_count": null,
            "_view_module": "@jupyter-widgets/base",
            "_view_module_version": "1.2.0",
            "_view_name": "StyleView",
            "description_width": ""
          }
        },
        "4b51f8cffa0645ed8e98e05371ac7a8d": {
          "model_module": "@jupyter-widgets/base",
          "model_name": "LayoutModel",
          "model_module_version": "1.2.0",
          "state": {
            "_model_module": "@jupyter-widgets/base",
            "_model_module_version": "1.2.0",
            "_model_name": "LayoutModel",
            "_view_count": null,
            "_view_module": "@jupyter-widgets/base",
            "_view_module_version": "1.2.0",
            "_view_name": "LayoutView",
            "align_content": null,
            "align_items": null,
            "align_self": null,
            "border": null,
            "bottom": null,
            "display": null,
            "flex": null,
            "flex_flow": null,
            "grid_area": null,
            "grid_auto_columns": null,
            "grid_auto_flow": null,
            "grid_auto_rows": null,
            "grid_column": null,
            "grid_gap": null,
            "grid_row": null,
            "grid_template_areas": null,
            "grid_template_columns": null,
            "grid_template_rows": null,
            "height": null,
            "justify_content": null,
            "justify_items": null,
            "left": null,
            "margin": null,
            "max_height": null,
            "max_width": null,
            "min_height": null,
            "min_width": null,
            "object_fit": null,
            "object_position": null,
            "order": null,
            "overflow": null,
            "overflow_x": null,
            "overflow_y": null,
            "padding": null,
            "right": null,
            "top": null,
            "visibility": null,
            "width": null
          }
        },
        "14b35db23692410abcbbac3405fd1b73": {
          "model_module": "@jupyter-widgets/controls",
          "model_name": "ProgressStyleModel",
          "model_module_version": "1.5.0",
          "state": {
            "_model_module": "@jupyter-widgets/controls",
            "_model_module_version": "1.5.0",
            "_model_name": "ProgressStyleModel",
            "_view_count": null,
            "_view_module": "@jupyter-widgets/base",
            "_view_module_version": "1.2.0",
            "_view_name": "StyleView",
            "bar_color": null,
            "description_width": ""
          }
        },
        "bc9b2c8c81f344918d150184c517c611": {
          "model_module": "@jupyter-widgets/base",
          "model_name": "LayoutModel",
          "model_module_version": "1.2.0",
          "state": {
            "_model_module": "@jupyter-widgets/base",
            "_model_module_version": "1.2.0",
            "_model_name": "LayoutModel",
            "_view_count": null,
            "_view_module": "@jupyter-widgets/base",
            "_view_module_version": "1.2.0",
            "_view_name": "LayoutView",
            "align_content": null,
            "align_items": null,
            "align_self": null,
            "border": null,
            "bottom": null,
            "display": null,
            "flex": null,
            "flex_flow": null,
            "grid_area": null,
            "grid_auto_columns": null,
            "grid_auto_flow": null,
            "grid_auto_rows": null,
            "grid_column": null,
            "grid_gap": null,
            "grid_row": null,
            "grid_template_areas": null,
            "grid_template_columns": null,
            "grid_template_rows": null,
            "height": null,
            "justify_content": null,
            "justify_items": null,
            "left": null,
            "margin": null,
            "max_height": null,
            "max_width": null,
            "min_height": null,
            "min_width": null,
            "object_fit": null,
            "object_position": null,
            "order": null,
            "overflow": null,
            "overflow_x": null,
            "overflow_y": null,
            "padding": null,
            "right": null,
            "top": null,
            "visibility": null,
            "width": null
          }
        },
        "e82675a125ae483aa1cd50b0bc8bc381": {
          "model_module": "@jupyter-widgets/controls",
          "model_name": "DescriptionStyleModel",
          "model_module_version": "1.5.0",
          "state": {
            "_model_module": "@jupyter-widgets/controls",
            "_model_module_version": "1.5.0",
            "_model_name": "DescriptionStyleModel",
            "_view_count": null,
            "_view_module": "@jupyter-widgets/base",
            "_view_module_version": "1.2.0",
            "_view_name": "StyleView",
            "description_width": ""
          }
        }
      }
    }
  },
  "cells": [
    {
      "cell_type": "code",
      "execution_count": 6,
      "metadata": {
        "id": "xv-tCHWy3leH",
        "colab": {
          "base_uri": "https://localhost:8080/"
        },
        "outputId": "f41d74be-827d-4631-95a4-6ac48384686b"
      },
      "outputs": [
        {
          "output_type": "stream",
          "name": "stdout",
          "text": [
            "Mounted at /content/drive\n"
          ]
        }
      ],
      "source": [
        "from google.colab import drive\n",
        "drive.mount('/content/drive')"
      ]
    },
    {
      "cell_type": "code",
      "source": [
        "%cd /content/drive/MyDrive/pytorch"
      ],
      "metadata": {
        "colab": {
          "base_uri": "https://localhost:8080/"
        },
        "id": "zV-zNP-u3rgD",
        "outputId": "1f29c4aa-7552-4f95-ec0c-20ee79faec1c"
      },
      "execution_count": 7,
      "outputs": [
        {
          "output_type": "stream",
          "name": "stdout",
          "text": [
            "/content/drive/MyDrive/pytorch\n"
          ]
        }
      ]
    },
    {
      "cell_type": "code",
      "source": [
        "import pandas as pd\n",
        "import numpy as np\n",
        "import tensorflow as tf"
      ],
      "metadata": {
        "id": "MK0fIDVz3yjF"
      },
      "execution_count": 98,
      "outputs": []
    },
    {
      "cell_type": "code",
      "source": [
        "data = pd.read_csv(\"./sample_google_scholar.csv\")"
      ],
      "metadata": {
        "id": "J9xLiiwg4e-v"
      },
      "execution_count": 9,
      "outputs": []
    },
    {
      "cell_type": "code",
      "source": [
        "data = data.dropna()\n",
        "data.head()"
      ],
      "metadata": {
        "id": "kALx4utw4OOf",
        "colab": {
          "base_uri": "https://localhost:8080/",
          "height": 380
        },
        "outputId": "c9b3b74b-3f18-4b12-c5c6-f0e517d26b94"
      },
      "execution_count": 10,
      "outputs": [
        {
          "output_type": "execute_result",
          "data": {
            "text/plain": [
              "                                         author_name         email  \\\n",
              "0                                    Lawrence Holder       wsu.edu   \n",
              "3                                       Diane J Cook  eecs.wsu.edu   \n",
              "4  Sumi Helal IEEE Fellow AAAS Fellow IET Fellow ...  cise.ufl.edu   \n",
              "5                                        Hani Hagras   essex.ac.uk   \n",
              "6                                       Anupam Joshi      umbc.edu   \n",
              "\n",
              "                   affiliation  \\\n",
              "0  Washington State University   \n",
              "3  Washington State University   \n",
              "4        University of Florida   \n",
              "5          University of Essex   \n",
              "6                         UMBC   \n",
              "\n",
              "                                     coauthors_names  \\\n",
              "0                       Diane J Cook##William Eberle   \n",
              "3  Lawrence Holder##Parisa Rashidi##Sajal K. Das#...   \n",
              "4  Raja Bose##Darrell Woelk##Diane J Cook##Yousse...   \n",
              "5                                   Christian Wagner   \n",
              "6  Tim Finin##Yelena Yesha##Lalana Kagal##Dipanja...   \n",
              "\n",
              "                                   research_interest  \n",
              "0  artificial_intelligence##machine_learning##dat...  \n",
              "3  artificial_intelligence##machine_learning##sma...  \n",
              "4  digital_health##smart_homes##internet_of_thing...  \n",
              "5  explainable_artificial_intelligence##ambient_i...  \n",
              "6  data_management##mobile_computing##security##s...  "
            ],
            "text/html": [
              "\n",
              "  <div id=\"df-fbcfb85b-36d9-45de-8f01-ba6bc97b2a0a\" class=\"colab-df-container\">\n",
              "    <div>\n",
              "<style scoped>\n",
              "    .dataframe tbody tr th:only-of-type {\n",
              "        vertical-align: middle;\n",
              "    }\n",
              "\n",
              "    .dataframe tbody tr th {\n",
              "        vertical-align: top;\n",
              "    }\n",
              "\n",
              "    .dataframe thead th {\n",
              "        text-align: right;\n",
              "    }\n",
              "</style>\n",
              "<table border=\"1\" class=\"dataframe\">\n",
              "  <thead>\n",
              "    <tr style=\"text-align: right;\">\n",
              "      <th></th>\n",
              "      <th>author_name</th>\n",
              "      <th>email</th>\n",
              "      <th>affiliation</th>\n",
              "      <th>coauthors_names</th>\n",
              "      <th>research_interest</th>\n",
              "    </tr>\n",
              "  </thead>\n",
              "  <tbody>\n",
              "    <tr>\n",
              "      <th>0</th>\n",
              "      <td>Lawrence Holder</td>\n",
              "      <td>wsu.edu</td>\n",
              "      <td>Washington State University</td>\n",
              "      <td>Diane J Cook##William Eberle</td>\n",
              "      <td>artificial_intelligence##machine_learning##dat...</td>\n",
              "    </tr>\n",
              "    <tr>\n",
              "      <th>3</th>\n",
              "      <td>Diane J Cook</td>\n",
              "      <td>eecs.wsu.edu</td>\n",
              "      <td>Washington State University</td>\n",
              "      <td>Lawrence Holder##Parisa Rashidi##Sajal K. Das#...</td>\n",
              "      <td>artificial_intelligence##machine_learning##sma...</td>\n",
              "    </tr>\n",
              "    <tr>\n",
              "      <th>4</th>\n",
              "      <td>Sumi Helal IEEE Fellow AAAS Fellow IET Fellow ...</td>\n",
              "      <td>cise.ufl.edu</td>\n",
              "      <td>University of Florida</td>\n",
              "      <td>Raja Bose##Darrell Woelk##Diane J Cook##Yousse...</td>\n",
              "      <td>digital_health##smart_homes##internet_of_thing...</td>\n",
              "    </tr>\n",
              "    <tr>\n",
              "      <th>5</th>\n",
              "      <td>Hani Hagras</td>\n",
              "      <td>essex.ac.uk</td>\n",
              "      <td>University of Essex</td>\n",
              "      <td>Christian Wagner</td>\n",
              "      <td>explainable_artificial_intelligence##ambient_i...</td>\n",
              "    </tr>\n",
              "    <tr>\n",
              "      <th>6</th>\n",
              "      <td>Anupam Joshi</td>\n",
              "      <td>umbc.edu</td>\n",
              "      <td>UMBC</td>\n",
              "      <td>Tim Finin##Yelena Yesha##Lalana Kagal##Dipanja...</td>\n",
              "      <td>data_management##mobile_computing##security##s...</td>\n",
              "    </tr>\n",
              "  </tbody>\n",
              "</table>\n",
              "</div>\n",
              "    <div class=\"colab-df-buttons\">\n",
              "\n",
              "  <div class=\"colab-df-container\">\n",
              "    <button class=\"colab-df-convert\" onclick=\"convertToInteractive('df-fbcfb85b-36d9-45de-8f01-ba6bc97b2a0a')\"\n",
              "            title=\"Convert this dataframe to an interactive table.\"\n",
              "            style=\"display:none;\">\n",
              "\n",
              "  <svg xmlns=\"http://www.w3.org/2000/svg\" height=\"24px\" viewBox=\"0 -960 960 960\">\n",
              "    <path d=\"M120-120v-720h720v720H120Zm60-500h600v-160H180v160Zm220 220h160v-160H400v160Zm0 220h160v-160H400v160ZM180-400h160v-160H180v160Zm440 0h160v-160H620v160ZM180-180h160v-160H180v160Zm440 0h160v-160H620v160Z\"/>\n",
              "  </svg>\n",
              "    </button>\n",
              "\n",
              "  <style>\n",
              "    .colab-df-container {\n",
              "      display:flex;\n",
              "      gap: 12px;\n",
              "    }\n",
              "\n",
              "    .colab-df-convert {\n",
              "      background-color: #E8F0FE;\n",
              "      border: none;\n",
              "      border-radius: 50%;\n",
              "      cursor: pointer;\n",
              "      display: none;\n",
              "      fill: #1967D2;\n",
              "      height: 32px;\n",
              "      padding: 0 0 0 0;\n",
              "      width: 32px;\n",
              "    }\n",
              "\n",
              "    .colab-df-convert:hover {\n",
              "      background-color: #E2EBFA;\n",
              "      box-shadow: 0px 1px 2px rgba(60, 64, 67, 0.3), 0px 1px 3px 1px rgba(60, 64, 67, 0.15);\n",
              "      fill: #174EA6;\n",
              "    }\n",
              "\n",
              "    .colab-df-buttons div {\n",
              "      margin-bottom: 4px;\n",
              "    }\n",
              "\n",
              "    [theme=dark] .colab-df-convert {\n",
              "      background-color: #3B4455;\n",
              "      fill: #D2E3FC;\n",
              "    }\n",
              "\n",
              "    [theme=dark] .colab-df-convert:hover {\n",
              "      background-color: #434B5C;\n",
              "      box-shadow: 0px 1px 3px 1px rgba(0, 0, 0, 0.15);\n",
              "      filter: drop-shadow(0px 1px 2px rgba(0, 0, 0, 0.3));\n",
              "      fill: #FFFFFF;\n",
              "    }\n",
              "  </style>\n",
              "\n",
              "    <script>\n",
              "      const buttonEl =\n",
              "        document.querySelector('#df-fbcfb85b-36d9-45de-8f01-ba6bc97b2a0a button.colab-df-convert');\n",
              "      buttonEl.style.display =\n",
              "        google.colab.kernel.accessAllowed ? 'block' : 'none';\n",
              "\n",
              "      async function convertToInteractive(key) {\n",
              "        const element = document.querySelector('#df-fbcfb85b-36d9-45de-8f01-ba6bc97b2a0a');\n",
              "        const dataTable =\n",
              "          await google.colab.kernel.invokeFunction('convertToInteractive',\n",
              "                                                    [key], {});\n",
              "        if (!dataTable) return;\n",
              "\n",
              "        const docLinkHtml = 'Like what you see? Visit the ' +\n",
              "          '<a target=\"_blank\" href=https://colab.research.google.com/notebooks/data_table.ipynb>data table notebook</a>'\n",
              "          + ' to learn more about interactive tables.';\n",
              "        element.innerHTML = '';\n",
              "        dataTable['output_type'] = 'display_data';\n",
              "        await google.colab.output.renderOutput(dataTable, element);\n",
              "        const docLink = document.createElement('div');\n",
              "        docLink.innerHTML = docLinkHtml;\n",
              "        element.appendChild(docLink);\n",
              "      }\n",
              "    </script>\n",
              "  </div>\n",
              "\n",
              "\n",
              "<div id=\"df-4e3b2e64-5fc7-4f61-b121-848fddbd9e6d\">\n",
              "  <button class=\"colab-df-quickchart\" onclick=\"quickchart('df-4e3b2e64-5fc7-4f61-b121-848fddbd9e6d')\"\n",
              "            title=\"Suggest charts\"\n",
              "            style=\"display:none;\">\n",
              "\n",
              "<svg xmlns=\"http://www.w3.org/2000/svg\" height=\"24px\"viewBox=\"0 0 24 24\"\n",
              "     width=\"24px\">\n",
              "    <g>\n",
              "        <path d=\"M19 3H5c-1.1 0-2 .9-2 2v14c0 1.1.9 2 2 2h14c1.1 0 2-.9 2-2V5c0-1.1-.9-2-2-2zM9 17H7v-7h2v7zm4 0h-2V7h2v10zm4 0h-2v-4h2v4z\"/>\n",
              "    </g>\n",
              "</svg>\n",
              "  </button>\n",
              "\n",
              "<style>\n",
              "  .colab-df-quickchart {\n",
              "      --bg-color: #E8F0FE;\n",
              "      --fill-color: #1967D2;\n",
              "      --hover-bg-color: #E2EBFA;\n",
              "      --hover-fill-color: #174EA6;\n",
              "      --disabled-fill-color: #AAA;\n",
              "      --disabled-bg-color: #DDD;\n",
              "  }\n",
              "\n",
              "  [theme=dark] .colab-df-quickchart {\n",
              "      --bg-color: #3B4455;\n",
              "      --fill-color: #D2E3FC;\n",
              "      --hover-bg-color: #434B5C;\n",
              "      --hover-fill-color: #FFFFFF;\n",
              "      --disabled-bg-color: #3B4455;\n",
              "      --disabled-fill-color: #666;\n",
              "  }\n",
              "\n",
              "  .colab-df-quickchart {\n",
              "    background-color: var(--bg-color);\n",
              "    border: none;\n",
              "    border-radius: 50%;\n",
              "    cursor: pointer;\n",
              "    display: none;\n",
              "    fill: var(--fill-color);\n",
              "    height: 32px;\n",
              "    padding: 0;\n",
              "    width: 32px;\n",
              "  }\n",
              "\n",
              "  .colab-df-quickchart:hover {\n",
              "    background-color: var(--hover-bg-color);\n",
              "    box-shadow: 0 1px 2px rgba(60, 64, 67, 0.3), 0 1px 3px 1px rgba(60, 64, 67, 0.15);\n",
              "    fill: var(--button-hover-fill-color);\n",
              "  }\n",
              "\n",
              "  .colab-df-quickchart-complete:disabled,\n",
              "  .colab-df-quickchart-complete:disabled:hover {\n",
              "    background-color: var(--disabled-bg-color);\n",
              "    fill: var(--disabled-fill-color);\n",
              "    box-shadow: none;\n",
              "  }\n",
              "\n",
              "  .colab-df-spinner {\n",
              "    border: 2px solid var(--fill-color);\n",
              "    border-color: transparent;\n",
              "    border-bottom-color: var(--fill-color);\n",
              "    animation:\n",
              "      spin 1s steps(1) infinite;\n",
              "  }\n",
              "\n",
              "  @keyframes spin {\n",
              "    0% {\n",
              "      border-color: transparent;\n",
              "      border-bottom-color: var(--fill-color);\n",
              "      border-left-color: var(--fill-color);\n",
              "    }\n",
              "    20% {\n",
              "      border-color: transparent;\n",
              "      border-left-color: var(--fill-color);\n",
              "      border-top-color: var(--fill-color);\n",
              "    }\n",
              "    30% {\n",
              "      border-color: transparent;\n",
              "      border-left-color: var(--fill-color);\n",
              "      border-top-color: var(--fill-color);\n",
              "      border-right-color: var(--fill-color);\n",
              "    }\n",
              "    40% {\n",
              "      border-color: transparent;\n",
              "      border-right-color: var(--fill-color);\n",
              "      border-top-color: var(--fill-color);\n",
              "    }\n",
              "    60% {\n",
              "      border-color: transparent;\n",
              "      border-right-color: var(--fill-color);\n",
              "    }\n",
              "    80% {\n",
              "      border-color: transparent;\n",
              "      border-right-color: var(--fill-color);\n",
              "      border-bottom-color: var(--fill-color);\n",
              "    }\n",
              "    90% {\n",
              "      border-color: transparent;\n",
              "      border-bottom-color: var(--fill-color);\n",
              "    }\n",
              "  }\n",
              "</style>\n",
              "\n",
              "  <script>\n",
              "    async function quickchart(key) {\n",
              "      const quickchartButtonEl =\n",
              "        document.querySelector('#' + key + ' button');\n",
              "      quickchartButtonEl.disabled = true;  // To prevent multiple clicks.\n",
              "      quickchartButtonEl.classList.add('colab-df-spinner');\n",
              "      try {\n",
              "        const charts = await google.colab.kernel.invokeFunction(\n",
              "            'suggestCharts', [key], {});\n",
              "      } catch (error) {\n",
              "        console.error('Error during call to suggestCharts:', error);\n",
              "      }\n",
              "      quickchartButtonEl.classList.remove('colab-df-spinner');\n",
              "      quickchartButtonEl.classList.add('colab-df-quickchart-complete');\n",
              "    }\n",
              "    (() => {\n",
              "      let quickchartButtonEl =\n",
              "        document.querySelector('#df-4e3b2e64-5fc7-4f61-b121-848fddbd9e6d button');\n",
              "      quickchartButtonEl.style.display =\n",
              "        google.colab.kernel.accessAllowed ? 'block' : 'none';\n",
              "    })();\n",
              "  </script>\n",
              "</div>\n",
              "\n",
              "    </div>\n",
              "  </div>\n"
            ]
          },
          "metadata": {},
          "execution_count": 10
        }
      ]
    },
    {
      "cell_type": "code",
      "source": [
        "# for features, it will convert first 10 characters of affliation into a vector of float\n",
        "# by dividing each character by maximum axcii number\n",
        "\n",
        "def convert_first_ten_characters_into_tensor(data):\n",
        "  first_ten_characters = data[:10]\n",
        "  converted = [ord(char)/256 for char in first_ten_characters]\n",
        "  while len(converted) < 10:\n",
        "    converted.append(0.0)\n",
        "  return np.array(converted)\n",
        "\n",
        "converted_affiliation = data['affiliation'].map(convert_first_ten_characters_into_tensor)\n",
        "affiliation = np.vstack(converted_affiliation.values)\n",
        "print(affiliation[:5])"
      ],
      "metadata": {
        "colab": {
          "base_uri": "https://localhost:8080/"
        },
        "id": "UjRKBIKJ2m1z",
        "outputId": "737ff739-d8e2-4ab4-9247-d7bffdc55b0b"
      },
      "execution_count": 11,
      "outputs": [
        {
          "output_type": "stream",
          "name": "stdout",
          "text": [
            "[[0.33984375 0.37890625 0.44921875 0.40625    0.41015625 0.4296875\n",
            "  0.40234375 0.453125   0.43359375 0.4296875 ]\n",
            " [0.33984375 0.37890625 0.44921875 0.40625    0.41015625 0.4296875\n",
            "  0.40234375 0.453125   0.43359375 0.4296875 ]\n",
            " [0.33203125 0.4296875  0.41015625 0.4609375  0.39453125 0.4453125\n",
            "  0.44921875 0.41015625 0.453125   0.47265625]\n",
            " [0.33203125 0.4296875  0.41015625 0.4609375  0.39453125 0.4453125\n",
            "  0.44921875 0.41015625 0.453125   0.47265625]\n",
            " [0.33203125 0.30078125 0.2578125  0.26171875 0.         0.\n",
            "  0.         0.         0.         0.        ]]\n"
          ]
        }
      ]
    },
    {
      "cell_type": "code",
      "source": [
        "# for labels, it will be boolean valuel; True if email consist of '.edu' and False otherwise\n",
        "\n",
        "converted_email = data['email'].str.contains('.edu')\n",
        "labels = converted_email.values\n",
        "labels[:5]"
      ],
      "metadata": {
        "colab": {
          "base_uri": "https://localhost:8080/"
        },
        "id": "NmbiMbUU4BMt",
        "outputId": "5ebc81a1-3756-4499-db2b-924fd20c23ce"
      },
      "execution_count": 12,
      "outputs": [
        {
          "output_type": "execute_result",
          "data": {
            "text/plain": [
              "array([ True,  True,  True, False,  True])"
            ]
          },
          "metadata": {},
          "execution_count": 12
        }
      ]
    },
    {
      "cell_type": "code",
      "source": [
        "full_df = pd.concat([pd.DataFrame(affiliation), pd.DataFrame(labels)], axis=1, ignore_index=True)\n",
        "full_df.to_csv('data.csv', index=False, header=True)\n",
        "full_df.head()"
      ],
      "metadata": {
        "colab": {
          "base_uri": "https://localhost:8080/",
          "height": 206
        },
        "id": "NN_P8O-y0NEF",
        "outputId": "8dc6c45d-10b5-483f-dc3b-9916b722d17c"
      },
      "execution_count": 88,
      "outputs": [
        {
          "output_type": "execute_result",
          "data": {
            "text/plain": [
              "         0         1         2         3         4         5         6   \\\n",
              "0  0.339844  0.378906  0.449219  0.406250  0.410156  0.429688  0.402344   \n",
              "1  0.339844  0.378906  0.449219  0.406250  0.410156  0.429688  0.402344   \n",
              "2  0.332031  0.429688  0.410156  0.460938  0.394531  0.445312  0.449219   \n",
              "3  0.332031  0.429688  0.410156  0.460938  0.394531  0.445312  0.449219   \n",
              "4  0.332031  0.300781  0.257812  0.261719  0.000000  0.000000  0.000000   \n",
              "\n",
              "         7         8         9      10  \n",
              "0  0.453125  0.433594  0.429688   True  \n",
              "1  0.453125  0.433594  0.429688   True  \n",
              "2  0.410156  0.453125  0.472656   True  \n",
              "3  0.410156  0.453125  0.472656  False  \n",
              "4  0.000000  0.000000  0.000000   True  "
            ],
            "text/html": [
              "\n",
              "  <div id=\"df-77fcaca7-c6db-44ed-b0fc-d0dd52c489b7\" class=\"colab-df-container\">\n",
              "    <div>\n",
              "<style scoped>\n",
              "    .dataframe tbody tr th:only-of-type {\n",
              "        vertical-align: middle;\n",
              "    }\n",
              "\n",
              "    .dataframe tbody tr th {\n",
              "        vertical-align: top;\n",
              "    }\n",
              "\n",
              "    .dataframe thead th {\n",
              "        text-align: right;\n",
              "    }\n",
              "</style>\n",
              "<table border=\"1\" class=\"dataframe\">\n",
              "  <thead>\n",
              "    <tr style=\"text-align: right;\">\n",
              "      <th></th>\n",
              "      <th>0</th>\n",
              "      <th>1</th>\n",
              "      <th>2</th>\n",
              "      <th>3</th>\n",
              "      <th>4</th>\n",
              "      <th>5</th>\n",
              "      <th>6</th>\n",
              "      <th>7</th>\n",
              "      <th>8</th>\n",
              "      <th>9</th>\n",
              "      <th>10</th>\n",
              "    </tr>\n",
              "  </thead>\n",
              "  <tbody>\n",
              "    <tr>\n",
              "      <th>0</th>\n",
              "      <td>0.339844</td>\n",
              "      <td>0.378906</td>\n",
              "      <td>0.449219</td>\n",
              "      <td>0.406250</td>\n",
              "      <td>0.410156</td>\n",
              "      <td>0.429688</td>\n",
              "      <td>0.402344</td>\n",
              "      <td>0.453125</td>\n",
              "      <td>0.433594</td>\n",
              "      <td>0.429688</td>\n",
              "      <td>True</td>\n",
              "    </tr>\n",
              "    <tr>\n",
              "      <th>1</th>\n",
              "      <td>0.339844</td>\n",
              "      <td>0.378906</td>\n",
              "      <td>0.449219</td>\n",
              "      <td>0.406250</td>\n",
              "      <td>0.410156</td>\n",
              "      <td>0.429688</td>\n",
              "      <td>0.402344</td>\n",
              "      <td>0.453125</td>\n",
              "      <td>0.433594</td>\n",
              "      <td>0.429688</td>\n",
              "      <td>True</td>\n",
              "    </tr>\n",
              "    <tr>\n",
              "      <th>2</th>\n",
              "      <td>0.332031</td>\n",
              "      <td>0.429688</td>\n",
              "      <td>0.410156</td>\n",
              "      <td>0.460938</td>\n",
              "      <td>0.394531</td>\n",
              "      <td>0.445312</td>\n",
              "      <td>0.449219</td>\n",
              "      <td>0.410156</td>\n",
              "      <td>0.453125</td>\n",
              "      <td>0.472656</td>\n",
              "      <td>True</td>\n",
              "    </tr>\n",
              "    <tr>\n",
              "      <th>3</th>\n",
              "      <td>0.332031</td>\n",
              "      <td>0.429688</td>\n",
              "      <td>0.410156</td>\n",
              "      <td>0.460938</td>\n",
              "      <td>0.394531</td>\n",
              "      <td>0.445312</td>\n",
              "      <td>0.449219</td>\n",
              "      <td>0.410156</td>\n",
              "      <td>0.453125</td>\n",
              "      <td>0.472656</td>\n",
              "      <td>False</td>\n",
              "    </tr>\n",
              "    <tr>\n",
              "      <th>4</th>\n",
              "      <td>0.332031</td>\n",
              "      <td>0.300781</td>\n",
              "      <td>0.257812</td>\n",
              "      <td>0.261719</td>\n",
              "      <td>0.000000</td>\n",
              "      <td>0.000000</td>\n",
              "      <td>0.000000</td>\n",
              "      <td>0.000000</td>\n",
              "      <td>0.000000</td>\n",
              "      <td>0.000000</td>\n",
              "      <td>True</td>\n",
              "    </tr>\n",
              "  </tbody>\n",
              "</table>\n",
              "</div>\n",
              "    <div class=\"colab-df-buttons\">\n",
              "\n",
              "  <div class=\"colab-df-container\">\n",
              "    <button class=\"colab-df-convert\" onclick=\"convertToInteractive('df-77fcaca7-c6db-44ed-b0fc-d0dd52c489b7')\"\n",
              "            title=\"Convert this dataframe to an interactive table.\"\n",
              "            style=\"display:none;\">\n",
              "\n",
              "  <svg xmlns=\"http://www.w3.org/2000/svg\" height=\"24px\" viewBox=\"0 -960 960 960\">\n",
              "    <path d=\"M120-120v-720h720v720H120Zm60-500h600v-160H180v160Zm220 220h160v-160H400v160Zm0 220h160v-160H400v160ZM180-400h160v-160H180v160Zm440 0h160v-160H620v160ZM180-180h160v-160H180v160Zm440 0h160v-160H620v160Z\"/>\n",
              "  </svg>\n",
              "    </button>\n",
              "\n",
              "  <style>\n",
              "    .colab-df-container {\n",
              "      display:flex;\n",
              "      gap: 12px;\n",
              "    }\n",
              "\n",
              "    .colab-df-convert {\n",
              "      background-color: #E8F0FE;\n",
              "      border: none;\n",
              "      border-radius: 50%;\n",
              "      cursor: pointer;\n",
              "      display: none;\n",
              "      fill: #1967D2;\n",
              "      height: 32px;\n",
              "      padding: 0 0 0 0;\n",
              "      width: 32px;\n",
              "    }\n",
              "\n",
              "    .colab-df-convert:hover {\n",
              "      background-color: #E2EBFA;\n",
              "      box-shadow: 0px 1px 2px rgba(60, 64, 67, 0.3), 0px 1px 3px 1px rgba(60, 64, 67, 0.15);\n",
              "      fill: #174EA6;\n",
              "    }\n",
              "\n",
              "    .colab-df-buttons div {\n",
              "      margin-bottom: 4px;\n",
              "    }\n",
              "\n",
              "    [theme=dark] .colab-df-convert {\n",
              "      background-color: #3B4455;\n",
              "      fill: #D2E3FC;\n",
              "    }\n",
              "\n",
              "    [theme=dark] .colab-df-convert:hover {\n",
              "      background-color: #434B5C;\n",
              "      box-shadow: 0px 1px 3px 1px rgba(0, 0, 0, 0.15);\n",
              "      filter: drop-shadow(0px 1px 2px rgba(0, 0, 0, 0.3));\n",
              "      fill: #FFFFFF;\n",
              "    }\n",
              "  </style>\n",
              "\n",
              "    <script>\n",
              "      const buttonEl =\n",
              "        document.querySelector('#df-77fcaca7-c6db-44ed-b0fc-d0dd52c489b7 button.colab-df-convert');\n",
              "      buttonEl.style.display =\n",
              "        google.colab.kernel.accessAllowed ? 'block' : 'none';\n",
              "\n",
              "      async function convertToInteractive(key) {\n",
              "        const element = document.querySelector('#df-77fcaca7-c6db-44ed-b0fc-d0dd52c489b7');\n",
              "        const dataTable =\n",
              "          await google.colab.kernel.invokeFunction('convertToInteractive',\n",
              "                                                    [key], {});\n",
              "        if (!dataTable) return;\n",
              "\n",
              "        const docLinkHtml = 'Like what you see? Visit the ' +\n",
              "          '<a target=\"_blank\" href=https://colab.research.google.com/notebooks/data_table.ipynb>data table notebook</a>'\n",
              "          + ' to learn more about interactive tables.';\n",
              "        element.innerHTML = '';\n",
              "        dataTable['output_type'] = 'display_data';\n",
              "        await google.colab.output.renderOutput(dataTable, element);\n",
              "        const docLink = document.createElement('div');\n",
              "        docLink.innerHTML = docLinkHtml;\n",
              "        element.appendChild(docLink);\n",
              "      }\n",
              "    </script>\n",
              "  </div>\n",
              "\n",
              "\n",
              "<div id=\"df-3a9dc73b-b9d0-42dd-9124-af2f25bcf0a8\">\n",
              "  <button class=\"colab-df-quickchart\" onclick=\"quickchart('df-3a9dc73b-b9d0-42dd-9124-af2f25bcf0a8')\"\n",
              "            title=\"Suggest charts\"\n",
              "            style=\"display:none;\">\n",
              "\n",
              "<svg xmlns=\"http://www.w3.org/2000/svg\" height=\"24px\"viewBox=\"0 0 24 24\"\n",
              "     width=\"24px\">\n",
              "    <g>\n",
              "        <path d=\"M19 3H5c-1.1 0-2 .9-2 2v14c0 1.1.9 2 2 2h14c1.1 0 2-.9 2-2V5c0-1.1-.9-2-2-2zM9 17H7v-7h2v7zm4 0h-2V7h2v10zm4 0h-2v-4h2v4z\"/>\n",
              "    </g>\n",
              "</svg>\n",
              "  </button>\n",
              "\n",
              "<style>\n",
              "  .colab-df-quickchart {\n",
              "      --bg-color: #E8F0FE;\n",
              "      --fill-color: #1967D2;\n",
              "      --hover-bg-color: #E2EBFA;\n",
              "      --hover-fill-color: #174EA6;\n",
              "      --disabled-fill-color: #AAA;\n",
              "      --disabled-bg-color: #DDD;\n",
              "  }\n",
              "\n",
              "  [theme=dark] .colab-df-quickchart {\n",
              "      --bg-color: #3B4455;\n",
              "      --fill-color: #D2E3FC;\n",
              "      --hover-bg-color: #434B5C;\n",
              "      --hover-fill-color: #FFFFFF;\n",
              "      --disabled-bg-color: #3B4455;\n",
              "      --disabled-fill-color: #666;\n",
              "  }\n",
              "\n",
              "  .colab-df-quickchart {\n",
              "    background-color: var(--bg-color);\n",
              "    border: none;\n",
              "    border-radius: 50%;\n",
              "    cursor: pointer;\n",
              "    display: none;\n",
              "    fill: var(--fill-color);\n",
              "    height: 32px;\n",
              "    padding: 0;\n",
              "    width: 32px;\n",
              "  }\n",
              "\n",
              "  .colab-df-quickchart:hover {\n",
              "    background-color: var(--hover-bg-color);\n",
              "    box-shadow: 0 1px 2px rgba(60, 64, 67, 0.3), 0 1px 3px 1px rgba(60, 64, 67, 0.15);\n",
              "    fill: var(--button-hover-fill-color);\n",
              "  }\n",
              "\n",
              "  .colab-df-quickchart-complete:disabled,\n",
              "  .colab-df-quickchart-complete:disabled:hover {\n",
              "    background-color: var(--disabled-bg-color);\n",
              "    fill: var(--disabled-fill-color);\n",
              "    box-shadow: none;\n",
              "  }\n",
              "\n",
              "  .colab-df-spinner {\n",
              "    border: 2px solid var(--fill-color);\n",
              "    border-color: transparent;\n",
              "    border-bottom-color: var(--fill-color);\n",
              "    animation:\n",
              "      spin 1s steps(1) infinite;\n",
              "  }\n",
              "\n",
              "  @keyframes spin {\n",
              "    0% {\n",
              "      border-color: transparent;\n",
              "      border-bottom-color: var(--fill-color);\n",
              "      border-left-color: var(--fill-color);\n",
              "    }\n",
              "    20% {\n",
              "      border-color: transparent;\n",
              "      border-left-color: var(--fill-color);\n",
              "      border-top-color: var(--fill-color);\n",
              "    }\n",
              "    30% {\n",
              "      border-color: transparent;\n",
              "      border-left-color: var(--fill-color);\n",
              "      border-top-color: var(--fill-color);\n",
              "      border-right-color: var(--fill-color);\n",
              "    }\n",
              "    40% {\n",
              "      border-color: transparent;\n",
              "      border-right-color: var(--fill-color);\n",
              "      border-top-color: var(--fill-color);\n",
              "    }\n",
              "    60% {\n",
              "      border-color: transparent;\n",
              "      border-right-color: var(--fill-color);\n",
              "    }\n",
              "    80% {\n",
              "      border-color: transparent;\n",
              "      border-right-color: var(--fill-color);\n",
              "      border-bottom-color: var(--fill-color);\n",
              "    }\n",
              "    90% {\n",
              "      border-color: transparent;\n",
              "      border-bottom-color: var(--fill-color);\n",
              "    }\n",
              "  }\n",
              "</style>\n",
              "\n",
              "  <script>\n",
              "    async function quickchart(key) {\n",
              "      const quickchartButtonEl =\n",
              "        document.querySelector('#' + key + ' button');\n",
              "      quickchartButtonEl.disabled = true;  // To prevent multiple clicks.\n",
              "      quickchartButtonEl.classList.add('colab-df-spinner');\n",
              "      try {\n",
              "        const charts = await google.colab.kernel.invokeFunction(\n",
              "            'suggestCharts', [key], {});\n",
              "      } catch (error) {\n",
              "        console.error('Error during call to suggestCharts:', error);\n",
              "      }\n",
              "      quickchartButtonEl.classList.remove('colab-df-spinner');\n",
              "      quickchartButtonEl.classList.add('colab-df-quickchart-complete');\n",
              "    }\n",
              "    (() => {\n",
              "      let quickchartButtonEl =\n",
              "        document.querySelector('#df-3a9dc73b-b9d0-42dd-9124-af2f25bcf0a8 button');\n",
              "      quickchartButtonEl.style.display =\n",
              "        google.colab.kernel.accessAllowed ? 'block' : 'none';\n",
              "    })();\n",
              "  </script>\n",
              "</div>\n",
              "\n",
              "    </div>\n",
              "  </div>\n"
            ]
          },
          "metadata": {},
          "execution_count": 88
        }
      ]
    },
    {
      "cell_type": "code",
      "source": [
        "full_df['labels'] = full_df.iloc[:, -1].values\n",
        "full_df['features'] = full_df.iloc[:, :-2].values.tolist()\n",
        "\n",
        "for i in range(11):\n",
        "  full_df.pop(i)\n",
        "\n",
        "full_df.to_csv('data_2c.csv', index=False, header=True)"
      ],
      "metadata": {
        "id": "k6Mfz0d-0dsa"
      },
      "execution_count": 89,
      "outputs": []
    },
    {
      "cell_type": "code",
      "source": [
        "import tensorflow_datasets as tfds\n",
        "import json"
      ],
      "metadata": {
        "id": "atSfwwgy0y76"
      },
      "execution_count": 91,
      "outputs": []
    },
    {
      "cell_type": "code",
      "source": [
        "config = {}\n",
        "config['path'] = \"data.csv\"\n",
        "config['path_2c'] = \"data_2c.csv\"\n",
        "config['tfds_dataset'] = \"mnist\""
      ],
      "metadata": {
        "id": "vhTfT2XH038-"
      },
      "execution_count": 92,
      "outputs": []
    },
    {
      "cell_type": "code",
      "source": [
        "class DataLoader:\n",
        "  \"\"\" Data loader class \"\"\"\n",
        "  @staticmethod\n",
        "  def load_data_tfds(config):\n",
        "    \"\"\"\n",
        "    loads predefined dataset from tfds\n",
        "    \"\"\"\n",
        "    print(config.get('tfds_dataset'))\n",
        "    return tfds.load(config.get('tfds_dataset'), split=tfds.Split.TRAIN, as_supervised=\"True\")\n",
        "\n",
        "  @staticmethod\n",
        "  def load_data_csv(config, tag, batch_size, label_name, select_columns):\n",
        "    \"\"\"\n",
        "      load predefined dataset from tfds\n",
        "    \"\"\"\n",
        "    return tf.data.experimental.make_csv_dataset(config.get(tag), batch_size=batch_size,\n",
        "                                                 label_name=label_name, select_columns=select_columns)\n",
        "\n",
        "  @staticmethod\n",
        "  def load_data_from_nump_arrays(feature, label):\n",
        "    \"\"\"\n",
        "    loads data from numpy to tf.data.Dataset\n",
        "    \"\"\"\n",
        "    return tf.data.Dataset.from_tensor_slices(feature, label)\n",
        "\n",
        "  @staticmethod\n",
        "  def load_data_from_pandas(df):\n",
        "    \"\"\"\n",
        "    loads data from pandas to tf.data.Dataset\n",
        "    \"\"\"\n",
        "    return tf.data.Dataset.from_tensor_slices((df.iloc[:, :-1].values, df.iloc[:, -1].values))"
      ],
      "metadata": {
        "id": "i5njO-Jq1cOP"
      },
      "execution_count": 99,
      "outputs": []
    },
    {
      "cell_type": "code",
      "source": [
        "label_name='labels'\n",
        "select_columns = [0, 1]"
      ],
      "metadata": {
        "id": "bi0XqEeD2veY"
      },
      "execution_count": 95,
      "outputs": []
    },
    {
      "cell_type": "code",
      "source": [
        "data = DataLoader().load_data_csv(config, 'path_2c', 1, label_name, select_columns)"
      ],
      "metadata": {
        "id": "NwlV_at324bG"
      },
      "execution_count": 100,
      "outputs": []
    },
    {
      "cell_type": "code",
      "source": [
        "print(data)"
      ],
      "metadata": {
        "colab": {
          "base_uri": "https://localhost:8080/"
        },
        "id": "wnXrQTDY2-pw",
        "outputId": "1b2799cb-28d2-4dbc-fe3a-c11de7f3546d"
      },
      "execution_count": 101,
      "outputs": [
        {
          "output_type": "stream",
          "name": "stdout",
          "text": [
            "<_PrefetchDataset element_spec=(OrderedDict([('features', TensorSpec(shape=(1,), dtype=tf.string, name=None))]), TensorSpec(shape=(1,), dtype=tf.string, name=None))>\n"
          ]
        }
      ]
    },
    {
      "cell_type": "code",
      "source": [
        "for feature in data.take(1):\n",
        "  print('Tensor:', feature)"
      ],
      "metadata": {
        "colab": {
          "base_uri": "https://localhost:8080/"
        },
        "id": "bqah9LCB3MBr",
        "outputId": "166059c1-8f8c-4125-f0f4-0c50b9ab4c02"
      },
      "execution_count": 102,
      "outputs": [
        {
          "output_type": "stream",
          "name": "stdout",
          "text": [
            "Tensor: (OrderedDict([('features', <tf.Tensor: shape=(1,), dtype=string, numpy=\n",
            "array([b'[0.32421875, 0.421875, 0.43359375, 0.4609375, 0.37890625, 0.41796875, 0.125, 0.33203125, 0.4296875, 0.41015625]'],\n",
            "      dtype=object)>)]), <tf.Tensor: shape=(1,), dtype=string, numpy=array([b'False'], dtype=object)>)\n"
          ]
        }
      ]
    },
    {
      "cell_type": "code",
      "source": [
        "label_name = '10'\n",
        "select_columns = range(11)"
      ],
      "metadata": {
        "id": "iC1gm3pd3S08"
      },
      "execution_count": 103,
      "outputs": []
    },
    {
      "cell_type": "code",
      "source": [
        "data = DataLoader().load_data_csv(config, 'path', 1, label_name, select_columns)"
      ],
      "metadata": {
        "id": "At_zc4A23Y3M"
      },
      "execution_count": 105,
      "outputs": []
    },
    {
      "cell_type": "code",
      "source": [
        "print(data)"
      ],
      "metadata": {
        "colab": {
          "base_uri": "https://localhost:8080/"
        },
        "id": "qHS9G_Sp3fzX",
        "outputId": "67bd218d-6e56-4acb-dccb-045080668f4f"
      },
      "execution_count": 106,
      "outputs": [
        {
          "output_type": "stream",
          "name": "stdout",
          "text": [
            "<_PrefetchDataset element_spec=(OrderedDict([('0', TensorSpec(shape=(1,), dtype=tf.float32, name=None)), ('1', TensorSpec(shape=(1,), dtype=tf.float32, name=None)), ('2', TensorSpec(shape=(1,), dtype=tf.float32, name=None)), ('3', TensorSpec(shape=(1,), dtype=tf.float32, name=None)), ('4', TensorSpec(shape=(1,), dtype=tf.float32, name=None)), ('5', TensorSpec(shape=(1,), dtype=tf.float32, name=None)), ('6', TensorSpec(shape=(1,), dtype=tf.float32, name=None)), ('7', TensorSpec(shape=(1,), dtype=tf.float32, name=None)), ('8', TensorSpec(shape=(1,), dtype=tf.float32, name=None)), ('9', TensorSpec(shape=(1,), dtype=tf.float32, name=None))]), TensorSpec(shape=(1,), dtype=tf.string, name=None))>\n"
          ]
        }
      ]
    },
    {
      "cell_type": "code",
      "source": [
        "def feature_vector(samples, labels):\n",
        "  return [x for x in list(samples.values())], labels"
      ],
      "metadata": {
        "id": "WMlQuuzo3iUT"
      },
      "execution_count": 107,
      "outputs": []
    },
    {
      "cell_type": "code",
      "source": [
        "dataset = data.map(feature_vector)"
      ],
      "metadata": {
        "id": "ZX4gNPGc3q_i"
      },
      "execution_count": 108,
      "outputs": []
    },
    {
      "cell_type": "code",
      "source": [
        "print(dataset)"
      ],
      "metadata": {
        "colab": {
          "base_uri": "https://localhost:8080/"
        },
        "id": "7xGaJJmI3twa",
        "outputId": "c236f8e7-d0c6-4cb0-95b7-9047541c3263"
      },
      "execution_count": 109,
      "outputs": [
        {
          "output_type": "stream",
          "name": "stdout",
          "text": [
            "<_MapDataset element_spec=(TensorSpec(shape=(10, 1), dtype=tf.float32, name=None), TensorSpec(shape=(1,), dtype=tf.string, name=None))>\n"
          ]
        }
      ]
    },
    {
      "cell_type": "code",
      "source": [
        "data = DataLoader().load_data_tfds(config)"
      ],
      "metadata": {
        "colab": {
          "base_uri": "https://localhost:8080/",
          "height": 121,
          "referenced_widgets": [
            "afa1a1849b484775990f3def9fa17ffe",
            "3008be07aeb14cd7959163f40ff03334",
            "20547c4a6d5d476797408594d3d5115e",
            "cd934565b00941fb895826d692daad15",
            "65f7a718c8d747e7b8b38b056c2c621b",
            "de1dec939eef4334b08d62336c7e7188",
            "4661faf6e24c4a8bb097c2b82d0aa5fa",
            "4b51f8cffa0645ed8e98e05371ac7a8d",
            "14b35db23692410abcbbac3405fd1b73",
            "bc9b2c8c81f344918d150184c517c611",
            "e82675a125ae483aa1cd50b0bc8bc381"
          ]
        },
        "id": "X0m5UDe03vS_",
        "outputId": "5e435b3f-6b39-44a0-c75d-3345ec99d54a"
      },
      "execution_count": 110,
      "outputs": [
        {
          "output_type": "stream",
          "name": "stdout",
          "text": [
            "mnist\n",
            "Downloading and preparing dataset 11.06 MiB (download: 11.06 MiB, generated: 21.00 MiB, total: 32.06 MiB) to /root/tensorflow_datasets/mnist/3.0.1...\n"
          ]
        },
        {
          "output_type": "display_data",
          "data": {
            "text/plain": [
              "Dl Completed...:   0%|          | 0/5 [00:00<?, ? file/s]"
            ],
            "application/vnd.jupyter.widget-view+json": {
              "version_major": 2,
              "version_minor": 0,
              "model_id": "afa1a1849b484775990f3def9fa17ffe"
            }
          },
          "metadata": {}
        },
        {
          "output_type": "stream",
          "name": "stdout",
          "text": [
            "Dataset mnist downloaded and prepared to /root/tensorflow_datasets/mnist/3.0.1. Subsequent calls will reuse this data.\n"
          ]
        }
      ]
    },
    {
      "cell_type": "code",
      "source": [
        "def data_generator(affiliation, labels):\n",
        "  def fetch_examples():\n",
        "    i=0\n",
        "    while True:\n",
        "      example = (affiliation[i], labels[i])\n",
        "      i+=1\n",
        "      i%=len(labels)\n",
        "      yield example\n",
        "\n",
        "  return fetch_examples"
      ],
      "metadata": {
        "id": "Y0oHrLV730Ve"
      },
      "execution_count": 111,
      "outputs": []
    },
    {
      "cell_type": "code",
      "source": [
        "batch_size=5\n",
        "features_shape=10\n",
        "\n",
        "dataset_gen = tf.data.Dataset.from_generator(data_generator(affiliation, labels),\n",
        "                                             output_types=(tf.float32, tf.bool),\n",
        "                                             output_shapes=(tf.TensorShape(features_shape,),\n",
        "                                                            tf.TensorShape(None))).batch(batch_size)"
      ],
      "metadata": {
        "id": "wMBihs8f4QxZ"
      },
      "execution_count": 112,
      "outputs": []
    },
    {
      "cell_type": "code",
      "source": [
        "for feature in dataset_gen.take(1):\n",
        "  print('Tensor:', feature)"
      ],
      "metadata": {
        "colab": {
          "base_uri": "https://localhost:8080/"
        },
        "id": "H455ClTw4udu",
        "outputId": "fe598dbb-d0bc-4168-c750-ad80f94143f1"
      },
      "execution_count": 113,
      "outputs": [
        {
          "output_type": "stream",
          "name": "stdout",
          "text": [
            "Tensor: (<tf.Tensor: shape=(5, 10), dtype=float32, numpy=\n",
            "array([[0.33984375, 0.37890625, 0.44921875, 0.40625   , 0.41015625,\n",
            "        0.4296875 , 0.40234375, 0.453125  , 0.43359375, 0.4296875 ],\n",
            "       [0.33984375, 0.37890625, 0.44921875, 0.40625   , 0.41015625,\n",
            "        0.4296875 , 0.40234375, 0.453125  , 0.43359375, 0.4296875 ],\n",
            "       [0.33203125, 0.4296875 , 0.41015625, 0.4609375 , 0.39453125,\n",
            "        0.4453125 , 0.44921875, 0.41015625, 0.453125  , 0.47265625],\n",
            "       [0.33203125, 0.4296875 , 0.41015625, 0.4609375 , 0.39453125,\n",
            "        0.4453125 , 0.44921875, 0.41015625, 0.453125  , 0.47265625],\n",
            "       [0.33203125, 0.30078125, 0.2578125 , 0.26171875, 0.        ,\n",
            "        0.        , 0.        , 0.        , 0.        , 0.        ]],\n",
            "      dtype=float32)>, <tf.Tensor: shape=(5,), dtype=bool, numpy=array([ True,  True,  True, False,  True])>)\n"
          ]
        }
      ]
    },
    {
      "cell_type": "code",
      "source": [
        "from tensorflow import keras\n",
        "from tensorflow.keras import layers"
      ],
      "metadata": {
        "id": "HO0A1Cue40q8"
      },
      "execution_count": 114,
      "outputs": []
    },
    {
      "cell_type": "code",
      "source": [
        "input_shape = 10\n",
        "model = keras.Sequential(\n",
        "    [\n",
        "        keras.Input(shape=input_shape),\n",
        "        layers.Dense(128, activation=\"relu\", name=\"layer1\"),\n",
        "        layers.Dense(64, activation=\"relu\", name=\"layer2\"),\n",
        "        layers.Dense(1, activation=\"sigmoid\", name=\"layer3\"),\n",
        "    ]\n",
        ")"
      ],
      "metadata": {
        "id": "GxdCEaSQ4-O8"
      },
      "execution_count": 115,
      "outputs": []
    },
    {
      "cell_type": "code",
      "source": [
        "model.summary()"
      ],
      "metadata": {
        "colab": {
          "base_uri": "https://localhost:8080/"
        },
        "id": "xEGGYnDK5Noc",
        "outputId": "b31ad1e9-2539-40a2-9c48-8a83e603c12d"
      },
      "execution_count": 116,
      "outputs": [
        {
          "output_type": "stream",
          "name": "stdout",
          "text": [
            "Model: \"sequential\"\n",
            "_________________________________________________________________\n",
            " Layer (type)                Output Shape              Param #   \n",
            "=================================================================\n",
            " layer1 (Dense)              (None, 128)               1408      \n",
            "                                                                 \n",
            " layer2 (Dense)              (None, 64)                8256      \n",
            "                                                                 \n",
            " layer3 (Dense)              (None, 1)                 65        \n",
            "                                                                 \n",
            "=================================================================\n",
            "Total params: 9729 (38.00 KB)\n",
            "Trainable params: 9729 (38.00 KB)\n",
            "Non-trainable params: 0 (0.00 Byte)\n",
            "_________________________________________________________________\n"
          ]
        }
      ]
    },
    {
      "cell_type": "code",
      "source": [
        "input_layer = layers.Input(10, name=\"input_layer\")\n",
        "x_1 = layers.Dense(128, activation=\"relu\", name=\"layer1\")(input_layer)\n",
        "x_2 = layers.Dense(64, activation=\"relu\", name=\"layer2\")(x_1)\n",
        "x_3 = layers.Dense(1, activation=\"sigmoid\", name=\"layer3\")(x_2)\n",
        "model2 = keras.Model(input_layer, x_3)"
      ],
      "metadata": {
        "id": "A8T_vNPz5Qnu"
      },
      "execution_count": 121,
      "outputs": []
    },
    {
      "cell_type": "code",
      "source": [
        "model2.summary()"
      ],
      "metadata": {
        "colab": {
          "base_uri": "https://localhost:8080/"
        },
        "id": "VN2rlr6y5uTz",
        "outputId": "97794cda-0a26-4216-a965-9ca694425be2"
      },
      "execution_count": 122,
      "outputs": [
        {
          "output_type": "stream",
          "name": "stdout",
          "text": [
            "Model: \"model_1\"\n",
            "_________________________________________________________________\n",
            " Layer (type)                Output Shape              Param #   \n",
            "=================================================================\n",
            " input_layer (InputLayer)    [(None, 10)]              0         \n",
            "                                                                 \n",
            " layer1 (Dense)              (None, 128)               1408      \n",
            "                                                                 \n",
            " layer2 (Dense)              (None, 64)                8256      \n",
            "                                                                 \n",
            " layer3 (Dense)              (None, 1)                 65        \n",
            "                                                                 \n",
            "=================================================================\n",
            "Total params: 9729 (38.00 KB)\n",
            "Trainable params: 9729 (38.00 KB)\n",
            "Non-trainable params: 0 (0.00 Byte)\n",
            "_________________________________________________________________\n"
          ]
        }
      ]
    },
    {
      "cell_type": "code",
      "source": [
        "loss = tf.keras.losses.BinaryCrossentropy()"
      ],
      "metadata": {
        "id": "Oxsvb5Xh537X"
      },
      "execution_count": 124,
      "outputs": []
    },
    {
      "cell_type": "code",
      "source": [
        "optimizer = tf.keras.optimizers.Adam()"
      ],
      "metadata": {
        "id": "2HS4SAlp6EQc"
      },
      "execution_count": 126,
      "outputs": []
    },
    {
      "cell_type": "code",
      "source": [
        "model.compile(loss=loss, optimizer=optimizer)"
      ],
      "metadata": {
        "id": "Md-VCQ9v6Jjl"
      },
      "execution_count": 127,
      "outputs": []
    },
    {
      "cell_type": "code",
      "source": [
        "model2.compile(loss=loss, optimizer=optimizer)"
      ],
      "metadata": {
        "id": "a8YXONPS6P-a"
      },
      "execution_count": 128,
      "outputs": []
    },
    {
      "cell_type": "code",
      "source": [
        "model.fit(affiliation, labels, batch_size=16, epochs=5, validation_split=0.2)"
      ],
      "metadata": {
        "colab": {
          "base_uri": "https://localhost:8080/"
        },
        "id": "ZMr_DVu96RwW",
        "outputId": "26d33286-67f3-4d26-c93c-aac84405ebfd"
      },
      "execution_count": 136,
      "outputs": [
        {
          "output_type": "stream",
          "name": "stdout",
          "text": [
            "Epoch 1/5\n",
            "3/3 [==============================] - 0s 59ms/step - loss: 0.6849 - val_loss: 0.7350\n",
            "Epoch 2/5\n",
            "3/3 [==============================] - 0s 32ms/step - loss: 0.6818 - val_loss: 0.7331\n",
            "Epoch 3/5\n",
            "3/3 [==============================] - 0s 29ms/step - loss: 0.6804 - val_loss: 0.7313\n",
            "Epoch 4/5\n",
            "3/3 [==============================] - 0s 25ms/step - loss: 0.6795 - val_loss: 0.7345\n",
            "Epoch 5/5\n",
            "3/3 [==============================] - 0s 22ms/step - loss: 0.6778 - val_loss: 0.7262\n"
          ]
        },
        {
          "output_type": "execute_result",
          "data": {
            "text/plain": [
              "<keras.src.callbacks.History at 0x782f8bc2df30>"
            ]
          },
          "metadata": {},
          "execution_count": 136
        }
      ]
    },
    {
      "cell_type": "code",
      "source": [
        "model2.fit(affiliation, labels, batch_size=16, epochs=5, validation_split=0.2)"
      ],
      "metadata": {
        "id": "0482gGBo6X6k"
      },
      "execution_count": null,
      "outputs": []
    },
    {
      "cell_type": "code",
      "source": [
        "callback =tf.keras.callbacks.EarlyStopping(\n",
        "    monitor='val_loss', min_delta=0.1, patience=2, verbose=0,\n",
        "    mode='min', baseline=None, restore_best_weights=False\n",
        ")"
      ],
      "metadata": {
        "id": "-cd9nhd76Zx1"
      },
      "execution_count": 132,
      "outputs": []
    },
    {
      "cell_type": "code",
      "source": [
        "optimizer=tf.keras.optimizers.Adam\n",
        "loss_fn=tf.keras.losses.BinaryCrossentropy\n",
        "\n",
        "BinaryAccuracy=tf.keras.metrics.BinaryAccuracy\n",
        "\n",
        "epochs=5\n",
        "\n",
        "for epoch in range(epochs):\n",
        "  for step, (x_batch_train, y_batch_train) in enumerate(data):\n",
        "    with tf.GradientTape() as tape:\n",
        "      logits = model(x_batch_train, training=True)\n",
        "      loss_ = loss_fn(y_batch_train, logits)\n",
        "    grads = tape.gradient(loss_, model.trainable_weights)\n",
        "    optimizer.apply_gradients(zip(grads, model.trainable_weights))\n",
        "    BinaryAccuracy.update_state(y_batch_train, logits)\n",
        "  print(\"epoch: \" + str(epoch+1) + \" loss\" + str(loss_.numpy()))\n",
        "  Acc = BinaryAccuracy.result()\n",
        "  print(\"binary accuracy: \", float(Acc))\n",
        "  BinaryAccuracy.reset_states()"
      ],
      "metadata": {
        "colab": {
          "base_uri": "https://localhost:8080/",
          "height": 246
        },
        "id": "MK0WMsSY65AM",
        "outputId": "276a3f86-a793-47cf-cc2e-df2206b11c19"
      },
      "execution_count": 137,
      "outputs": [
        {
          "output_type": "error",
          "ename": "ValueError",
          "evalue": "too many values to unpack (expected 2)",
          "traceback": [
            "\u001b[0;31m---------------------------------------------------------------------------\u001b[0m",
            "\u001b[0;31mValueError\u001b[0m                                Traceback (most recent call last)",
            "\u001b[0;32m<ipython-input-137-f032e50a4fd5>\u001b[0m in \u001b[0;36m<cell line: 8>\u001b[0;34m()\u001b[0m\n\u001b[1;32m      7\u001b[0m \u001b[0;34m\u001b[0m\u001b[0m\n\u001b[1;32m      8\u001b[0m \u001b[0;32mfor\u001b[0m \u001b[0mepoch\u001b[0m \u001b[0;32min\u001b[0m \u001b[0mrange\u001b[0m\u001b[0;34m(\u001b[0m\u001b[0mepochs\u001b[0m\u001b[0;34m)\u001b[0m\u001b[0;34m:\u001b[0m\u001b[0;34m\u001b[0m\u001b[0;34m\u001b[0m\u001b[0m\n\u001b[0;32m----> 9\u001b[0;31m   \u001b[0;32mfor\u001b[0m \u001b[0mstep\u001b[0m\u001b[0;34m,\u001b[0m \u001b[0;34m(\u001b[0m\u001b[0mx_batch_train\u001b[0m\u001b[0;34m,\u001b[0m \u001b[0my_batch_train\u001b[0m\u001b[0;34m)\u001b[0m \u001b[0;32min\u001b[0m \u001b[0menumerate\u001b[0m\u001b[0;34m(\u001b[0m\u001b[0maffiliation\u001b[0m\u001b[0;34m)\u001b[0m\u001b[0;34m:\u001b[0m\u001b[0;34m\u001b[0m\u001b[0;34m\u001b[0m\u001b[0m\n\u001b[0m\u001b[1;32m     10\u001b[0m     \u001b[0;32mwith\u001b[0m \u001b[0mtf\u001b[0m\u001b[0;34m.\u001b[0m\u001b[0mGradientTape\u001b[0m\u001b[0;34m(\u001b[0m\u001b[0;34m)\u001b[0m \u001b[0;32mas\u001b[0m \u001b[0mtape\u001b[0m\u001b[0;34m:\u001b[0m\u001b[0;34m\u001b[0m\u001b[0;34m\u001b[0m\u001b[0m\n\u001b[1;32m     11\u001b[0m       \u001b[0mlogits\u001b[0m \u001b[0;34m=\u001b[0m \u001b[0mmodel\u001b[0m\u001b[0;34m(\u001b[0m\u001b[0mx_batch_train\u001b[0m\u001b[0;34m,\u001b[0m \u001b[0mtraining\u001b[0m\u001b[0;34m=\u001b[0m\u001b[0;32mTrue\u001b[0m\u001b[0;34m)\u001b[0m\u001b[0;34m\u001b[0m\u001b[0;34m\u001b[0m\u001b[0m\n",
            "\u001b[0;31mValueError\u001b[0m: too many values to unpack (expected 2)"
          ]
        }
      ]
    },
    {
      "cell_type": "code",
      "source": [],
      "metadata": {
        "id": "AA5llWy872Uf"
      },
      "execution_count": null,
      "outputs": []
    }
  ]
}