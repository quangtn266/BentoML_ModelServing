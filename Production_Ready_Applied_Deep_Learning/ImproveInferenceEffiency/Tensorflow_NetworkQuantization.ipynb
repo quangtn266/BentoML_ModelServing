{
  "nbformat": 4,
  "nbformat_minor": 0,
  "metadata": {
    "colab": {
      "provenance": []
    },
    "kernelspec": {
      "name": "python3",
      "display_name": "Python 3"
    },
    "language_info": {
      "name": "python"
    }
  },
  "cells": [
    {
      "cell_type": "code",
      "execution_count": null,
      "metadata": {
        "id": "xv-tCHWy3leH",
        "colab": {
          "base_uri": "https://localhost:8080/"
        },
        "outputId": "af83638f-5b2f-48e6-a973-5fbd19002e12"
      },
      "outputs": [
        {
          "output_type": "stream",
          "name": "stdout",
          "text": [
            "Mounted at /content/drive\n"
          ]
        }
      ],
      "source": [
        "from google.colab import drive\n",
        "drive.mount('/content/drive')"
      ]
    },
    {
      "cell_type": "markdown",
      "source": [
        "## Post-training Quantization"
      ],
      "metadata": {
        "id": "CFu15naKmHZE"
      }
    },
    {
      "cell_type": "code",
      "source": [
        "import tensorflow as tf\n",
        "from tensorflow import keras\n",
        "from tensorflow.keras import layers\n",
        "import pandas as pd\n",
        "import numpy as np\n",
        "\n",
        "# data\n",
        "data = pd.read_csv(\"sample_google_scholar.csv\")\n",
        "data = data.dropna()\n",
        "\n",
        "def convert_first_ten_characters_into_tensor(data):\n",
        "  first_ten_characters = data[:10]\n",
        "  converted = [ord(char)/256 for char in first_ten_characters]\n",
        "  while(len(converted)<10):\n",
        "    converted.append(0.0)\n",
        "  return np.array(converted)\n",
        "\n",
        "converted_affiliation = data['affiliation'].map(convert_first_ten_characters_into_tensor)\n",
        "affiliation = np.vstack(converted_affiliation.values)\n",
        "converted_email = data['email'].str.contains('.edu')\n",
        "labels = converted_email.values\n",
        "\n",
        "# model\n",
        "input_shape = 10\n",
        "model = keras.Sequential(\n",
        "    [\n",
        "        keras.Input(shape=input_shape),\n",
        "        layers.Dense(128, activation='relu', name='layer1'),\n",
        "        layers.Dense(64, activation='relu', name='layer2'),\n",
        "        layers.Dense(1, activation='sigmoid', name='layer3'),\n",
        "    ]\n",
        ")\n",
        "\n",
        "loss = tf.keras.losses.BinaryCrossentropy()\n",
        "optimizer = tf.keras.optimizers.Adam()\n",
        "model.compile(loss=loss, optimizer=optimizer)\n",
        "\n",
        "# model fit\n",
        "model.fit(affiliation, labels, batch_size=16, epochs=5, validation_split=0.2)"
      ],
      "metadata": {
        "id": "rwapEabULE-n",
        "colab": {
          "base_uri": "https://localhost:8080/"
        },
        "outputId": "1c484786-3bd2-4c9b-e3ab-b6b3517a9447"
      },
      "execution_count": 39,
      "outputs": [
        {
          "output_type": "stream",
          "name": "stdout",
          "text": [
            "Epoch 1/5\n",
            "3/3 [==============================] - 1s 76ms/step - loss: 0.6962 - val_loss: 0.7078\n",
            "Epoch 2/5\n",
            "3/3 [==============================] - 0s 11ms/step - loss: 0.6906 - val_loss: 0.7131\n",
            "Epoch 3/5\n",
            "3/3 [==============================] - 0s 11ms/step - loss: 0.6895 - val_loss: 0.7096\n",
            "Epoch 4/5\n",
            "3/3 [==============================] - 0s 10ms/step - loss: 0.6868 - val_loss: 0.7186\n",
            "Epoch 5/5\n",
            "3/3 [==============================] - 0s 10ms/step - loss: 0.6865 - val_loss: 0.7137\n"
          ]
        },
        {
          "output_type": "execute_result",
          "data": {
            "text/plain": [
              "<keras.src.callbacks.History at 0x78281086d060>"
            ]
          },
          "metadata": {},
          "execution_count": 39
        }
      ]
    },
    {
      "cell_type": "code",
      "source": [
        "model.summary()"
      ],
      "metadata": {
        "colab": {
          "base_uri": "https://localhost:8080/"
        },
        "id": "0OG-_Rrwu7uT",
        "outputId": "2c12d584-7092-4e05-8bd5-2a69853e2e97"
      },
      "execution_count": 40,
      "outputs": [
        {
          "output_type": "stream",
          "name": "stdout",
          "text": [
            "Model: \"sequential_3\"\n",
            "_________________________________________________________________\n",
            " Layer (type)                Output Shape              Param #   \n",
            "=================================================================\n",
            " layer1 (Dense)              (None, 128)               1408      \n",
            "                                                                 \n",
            " layer2 (Dense)              (None, 64)                8256      \n",
            "                                                                 \n",
            " layer3 (Dense)              (None, 1)                 65        \n",
            "                                                                 \n",
            "=================================================================\n",
            "Total params: 9729 (38.00 KB)\n",
            "Trainable params: 9729 (38.00 KB)\n",
            "Non-trainable params: 0 (0.00 Byte)\n",
            "_________________________________________________________________\n"
          ]
        }
      ]
    },
    {
      "cell_type": "code",
      "source": [
        "tensorflow_model_path = \"./tf_model\"\n",
        "model.save(tensorflow_model_path)"
      ],
      "metadata": {
        "id": "lovPy9sXvkI5"
      },
      "execution_count": 43,
      "outputs": []
    },
    {
      "cell_type": "code",
      "source": [
        "model.save('model.hdf5')"
      ],
      "metadata": {
        "colab": {
          "base_uri": "https://localhost:8080/"
        },
        "id": "2YawaTgcvwZZ",
        "outputId": "20f87cfc-0f3c-4c02-b773-78d2ba7d4f5c"
      },
      "execution_count": 44,
      "outputs": [
        {
          "output_type": "stream",
          "name": "stderr",
          "text": [
            "/usr/local/lib/python3.10/dist-packages/keras/src/engine/training.py:3103: UserWarning: You are saving your model as an HDF5 file via `model.save()`. This file format is considered legacy. We recommend using instead the native Keras format, e.g. `model.save('my_model.keras')`.\n",
            "  saving_api.save_model(\n"
          ]
        }
      ]
    },
    {
      "cell_type": "code",
      "source": [
        "converter = tf.lite.TFLiteConverter.from_keras_model(model)\n",
        "converter.optimizations = [tf.lite.Optimize.DEFAULT]\n",
        "converter.target_spec.supported_types = [tf.float16]"
      ],
      "metadata": {
        "id": "eCQ9hhsJv84W"
      },
      "execution_count": 45,
      "outputs": []
    },
    {
      "cell_type": "code",
      "source": [
        "tfl_model = converter.convert()"
      ],
      "metadata": {
        "id": "kcgbYtDNwR7W"
      },
      "execution_count": 46,
      "outputs": []
    },
    {
      "cell_type": "code",
      "source": [
        "open(\"tfl_model.tflite\", \"wb\").write(tfl_model)"
      ],
      "metadata": {
        "colab": {
          "base_uri": "https://localhost:8080/"
        },
        "id": "LQAT25O9waos",
        "outputId": "04abd7df-cb0b-4ad3-8947-318dadd315b5"
      },
      "execution_count": 47,
      "outputs": [
        {
          "output_type": "execute_result",
          "data": {
            "text/plain": [
              "22444"
            ]
          },
          "metadata": {},
          "execution_count": 47
        }
      ]
    },
    {
      "cell_type": "code",
      "source": [
        "import os\n",
        "print(\"Original model in Mb: \", os.path.getsize('model.hdf5')/float(2**20))"
      ],
      "metadata": {
        "colab": {
          "base_uri": "https://localhost:8080/"
        },
        "id": "P8nx8SicwjPN",
        "outputId": "4dacdf34-2173-4c35-dadd-03c18f8514d4"
      },
      "execution_count": 48,
      "outputs": [
        {
          "output_type": "stream",
          "name": "stdout",
          "text": [
            "Original model in Mb:  0.14165496826171875\n"
          ]
        }
      ]
    },
    {
      "cell_type": "code",
      "source": [
        "print(\"Quantized model in Mb: \", os.path.getsize('tfl_model.tflite')/ float(2**20))"
      ],
      "metadata": {
        "colab": {
          "base_uri": "https://localhost:8080/"
        },
        "id": "i71yUV_nwr8H",
        "outputId": "cff2591d-532d-452f-9419-e7c1314dbba5"
      },
      "execution_count": 49,
      "outputs": [
        {
          "output_type": "stream",
          "name": "stdout",
          "text": [
            "Quantized model in Mb:  0.021404266357421875\n"
          ]
        }
      ]
    },
    {
      "cell_type": "markdown",
      "source": [
        "## Post- training quantization - Full integer quantization"
      ],
      "metadata": {
        "id": "EXE_Xivtw2E-"
      }
    },
    {
      "cell_type": "code",
      "source": [
        "def gen_rep():\n",
        "  data = affiliation.astype(np.float32)\n",
        "  data = tf.data.Dataset.from_tensor_slices(data).batch(1)\n",
        "  for i in data.take(BATCH_SIZE):\n",
        "    yield [i]"
      ],
      "metadata": {
        "id": "lPfL8jOYwzML"
      },
      "execution_count": 50,
      "outputs": []
    },
    {
      "cell_type": "code",
      "source": [
        "BATCH_SIZE=16\n",
        "converter = tf.lite.TFLiteConverter.from_saved_model('./tf_model/')\n",
        "converter.optimizations = [tf.lite.Optimize.DEFAULT]\n",
        "converter.representative_dataset = gen_rep\n",
        "converter.target_spec.supported_ops = [tf.lite.OpsSet.TFLITE_BUILTINS_INT8]\n",
        "converter.inference_input_type=tf.int8 # tf.uint8\n",
        "converter.inference_output_type=tf.int8 # tf.uint8"
      ],
      "metadata": {
        "id": "aon3rAiDxPr0"
      },
      "execution_count": 54,
      "outputs": []
    },
    {
      "cell_type": "code",
      "source": [
        "tflite_quant_model = converter.convert()"
      ],
      "metadata": {
        "id": "-g0Gt6eSx4O9"
      },
      "execution_count": 55,
      "outputs": []
    },
    {
      "cell_type": "code",
      "source": [
        "open(\"tflite_quant_model.tflite\", \"wb\").write(tflite_quant_model)"
      ],
      "metadata": {
        "colab": {
          "base_uri": "https://localhost:8080/"
        },
        "id": "lVpcTVHCyJ08",
        "outputId": "10eab45a-1b33-4006-dbfd-ee56879a4893"
      },
      "execution_count": 56,
      "outputs": [
        {
          "output_type": "execute_result",
          "data": {
            "text/plain": [
              "12776"
            ]
          },
          "metadata": {},
          "execution_count": 56
        }
      ]
    },
    {
      "cell_type": "code",
      "source": [
        "print(\"Original model in Mb:\", os.path.getsize('tfl_model.tflite')/float(2**20))"
      ],
      "metadata": {
        "colab": {
          "base_uri": "https://localhost:8080/"
        },
        "id": "piVYmvA5yTmr",
        "outputId": "dd992b58-28fc-4080-c9e2-b5b9e5b14e5c"
      },
      "execution_count": 57,
      "outputs": [
        {
          "output_type": "stream",
          "name": "stdout",
          "text": [
            "Original model in Mb: 0.021404266357421875\n"
          ]
        }
      ]
    },
    {
      "cell_type": "code",
      "source": [
        "print(\"Quantized model (Full integer quantization) in Mb:\", os.path.getsize('tflite_quant_model.tflite')/float(2**20))"
      ],
      "metadata": {
        "colab": {
          "base_uri": "https://localhost:8080/"
        },
        "id": "nhIuFrdSybUz",
        "outputId": "d53a26c0-39a6-40ab-d757-a50de82a526c"
      },
      "execution_count": 58,
      "outputs": [
        {
          "output_type": "stream",
          "name": "stdout",
          "text": [
            "Quantized model (Full integer quantization) in Mb: 0.01218414306640625\n"
          ]
        }
      ]
    },
    {
      "cell_type": "markdown",
      "source": [
        "## Performing quantization aware training"
      ],
      "metadata": {
        "id": "s_IHAbsLyrBL"
      }
    },
    {
      "cell_type": "code",
      "source": [
        "import tensorflow_model_optimization as tfmot"
      ],
      "metadata": {
        "id": "QEg3HBuYyoGw"
      },
      "execution_count": 62,
      "outputs": []
    },
    {
      "cell_type": "code",
      "source": [
        "# model\n",
        "input_shape = 10\n",
        "model = keras.Sequential([\n",
        "    keras.Input(shape=input_shape),\n",
        "    layers.Dense(128, activation='relu', name='layer1'),\n",
        "    layers.Dense(64, activation='relu', name='layer2'),\n",
        "    layers.Dense(1, activation='sigmoid', name='layer3'),\n",
        "])"
      ],
      "metadata": {
        "id": "bY0It2OSyyVV"
      },
      "execution_count": 63,
      "outputs": []
    },
    {
      "cell_type": "code",
      "source": [
        "q_aware_model = tfmot.quantization.keras.quantize_model(model)"
      ],
      "metadata": {
        "id": "gt0sRrRvy22Z"
      },
      "execution_count": 64,
      "outputs": []
    },
    {
      "cell_type": "code",
      "source": [
        "q_aware_model.compile(optimizer=optimizer, loss=loss, metrics=['accuracy'])"
      ],
      "metadata": {
        "id": "JLveAMO-zNYl"
      },
      "execution_count": 70,
      "outputs": []
    },
    {
      "cell_type": "code",
      "source": [
        "q_aware_model.fit(affiliation, labels, batch_size=16, epochs=5, validation_split=0.2)"
      ],
      "metadata": {
        "id": "4uWeUpG-zVNE"
      },
      "execution_count": null,
      "outputs": []
    },
    {
      "cell_type": "code",
      "source": [
        "q_aware_model.summary()"
      ],
      "metadata": {
        "colab": {
          "base_uri": "https://localhost:8080/"
        },
        "id": "GlcqYvnPzbm8",
        "outputId": "1701d246-9239-47ae-e6d2-8f4b5eb3acc1"
      },
      "execution_count": 72,
      "outputs": [
        {
          "output_type": "stream",
          "name": "stdout",
          "text": [
            "Model: \"sequential_4\"\n",
            "_________________________________________________________________\n",
            " Layer (type)                Output Shape              Param #   \n",
            "=================================================================\n",
            " quantize_layer (QuantizeLa  (None, 10)                3         \n",
            " yer)                                                            \n",
            "                                                                 \n",
            " quant_layer1 (QuantizeWrap  (None, 128)               1413      \n",
            " perV2)                                                          \n",
            "                                                                 \n",
            " quant_layer2 (QuantizeWrap  (None, 64)                8261      \n",
            " perV2)                                                          \n",
            "                                                                 \n",
            " quant_layer3 (QuantizeWrap  (None, 1)                 70        \n",
            " perV2)                                                          \n",
            "                                                                 \n",
            "=================================================================\n",
            "Total params: 9747 (38.07 KB)\n",
            "Trainable params: 9729 (38.00 KB)\n",
            "Non-trainable params: 18 (72.00 Byte)\n",
            "_________________________________________________________________\n"
          ]
        }
      ]
    },
    {
      "cell_type": "code",
      "source": [],
      "metadata": {
        "id": "TSJZhw0Kzyuy"
      },
      "execution_count": null,
      "outputs": []
    }
  ]
}