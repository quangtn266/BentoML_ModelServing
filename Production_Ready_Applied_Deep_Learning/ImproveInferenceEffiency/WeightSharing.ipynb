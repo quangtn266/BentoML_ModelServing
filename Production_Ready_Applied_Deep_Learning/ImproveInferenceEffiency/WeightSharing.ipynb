{
  "nbformat": 4,
  "nbformat_minor": 0,
  "metadata": {
    "colab": {
      "provenance": []
    },
    "kernelspec": {
      "name": "python3",
      "display_name": "Python 3"
    },
    "language_info": {
      "name": "python"
    }
  },
  "cells": [
    {
      "cell_type": "code",
      "execution_count": null,
      "metadata": {
        "id": "xv-tCHWy3leH",
        "colab": {
          "base_uri": "https://localhost:8080/"
        },
        "outputId": "af83638f-5b2f-48e6-a973-5fbd19002e12"
      },
      "outputs": [
        {
          "output_type": "stream",
          "name": "stdout",
          "text": [
            "Mounted at /content/drive\n"
          ]
        }
      ],
      "source": [
        "from google.colab import drive\n",
        "drive.mount('/content/drive')"
      ]
    },
    {
      "cell_type": "markdown",
      "source": [
        "*## Weight sharing (Pytorch)*"
      ],
      "metadata": {
        "id": "CFu15naKmHZE"
      }
    },
    {
      "cell_type": "code",
      "source": [
        "import torch\n",
        "import torch.quantization\n",
        "import torch.nn as nn\n",
        "\n",
        "from sklearn.cluster import KMeans"
      ],
      "metadata": {
        "id": "rwapEabULE-n"
      },
      "execution_count": 23,
      "outputs": []
    },
    {
      "cell_type": "code",
      "source": [
        "# set seed for reproducibility\n",
        "torch.manual_seed(0)\n",
        "\n",
        "class SampleLinearModel(nn.Module):\n",
        "  def __init__(self):\n",
        "    super(SampleLinearModel, self).__init__()\n",
        "    self.linear = nn.Linear(10, 10)\n",
        "\n",
        "  def cluster_weights(self, num_cluster):\n",
        "    # cluster weights of the layer\n",
        "    km =KMeans(\n",
        "        n_clusters=num_cluster, init='random',\n",
        "        n_init=10, max_iter=300, tol=1e-04, random_state=0\n",
        "    )\n",
        "\n",
        "    # construct a mapping from a cluster index to a centroid value and store\n",
        "    # at self.weight_mapping\n",
        "    weights = model.linear.weight.reshape([-1, 1]).detach().numpy()\n",
        "    self.weights_cluster = km.fit_predict(weights)\n",
        "\n",
        "    # find cluster index for each weight value and store at self.weights_cluster\n",
        "    self.weights_mapping = km.cluster_centers_\n",
        "\n",
        "    # drop the original weights to reduce the model size\n",
        "    self.linear.weight = None\n",
        "\n",
        "  def forward(self, x):\n",
        "    if self.training:\n",
        "      x = self.linear(x)\n",
        "    else: # in eval mode\n",
        "      # update weights of the self.layer by reassigning each value based on\n",
        "      # self.weights_cluster and self.weights_mapping\n",
        "      self.linear.weight = torch.nn.Parameter(torch.Tensor(self.weights_mapping[self.weights_cluster]).reshape(10, 10))\n",
        "      x = self.linear(x)\n",
        "    return x"
      ],
      "metadata": {
        "id": "VnNW9CR1R0w0"
      },
      "execution_count": 24,
      "outputs": []
    },
    {
      "cell_type": "code",
      "source": [
        "class CustomDataset(torch.utils.data.Dataset):\n",
        "  def __init__(self):\n",
        "    self.num_samples = 100\n",
        "    self.data = torch.rand([self.num_samples, 10])\n",
        "    self.label = torch.rand([self.num_samples, 1])\n",
        "\n",
        "  def __len__(self):\n",
        "    return self.num_samples\n",
        "\n",
        "  def __getitem__(self, idx):\n",
        "    return self.data[idx], self.label[idx]\n",
        "\n",
        "train_dataset = CustomDataset()\n",
        "training_data_loader = torch.utils.data.DataLoader(train_dataset)"
      ],
      "metadata": {
        "id": "BpDAREdwSPut"
      },
      "execution_count": 25,
      "outputs": []
    },
    {
      "cell_type": "code",
      "source": [
        "model = SampleLinearModel()\n",
        "\n",
        "# train the model\n",
        "model.train()\n",
        "mse_loss = torch.nn.MSELoss()\n",
        "optimizer = torch.optim.SGD(model.parameters(), lr=0.001, momentum=0.9)\n",
        "\n",
        "for data, label in training_data_loader:\n",
        "  optimizer.zero_grad()\n",
        "  pred = model(data)\n",
        "  loss = mse_loss(pred, label)\n",
        "  loss.backward()\n",
        "  optimizer.step()"
      ],
      "metadata": {
        "colab": {
          "base_uri": "https://localhost:8080/"
        },
        "id": "Yt8-L5sTSWfI",
        "outputId": "c234d668-e9c3-4c4f-e87c-02979d4bf58b"
      },
      "execution_count": 29,
      "outputs": [
        {
          "output_type": "stream",
          "name": "stderr",
          "text": [
            "/usr/local/lib/python3.10/dist-packages/torch/nn/modules/loss.py:535: UserWarning: Using a target size (torch.Size([1, 1])) that is different to the input size (torch.Size([1, 10])). This will likely lead to incorrect results due to broadcasting. Please ensure they have the same size.\n",
            "  return F.mse_loss(input, target, reduction=self.reduction)\n"
          ]
        }
      ]
    },
    {
      "cell_type": "code",
      "source": [
        "original_output = model(train_dataset[0][0])\n",
        "print(original_output)"
      ],
      "metadata": {
        "colab": {
          "base_uri": "https://localhost:8080/"
        },
        "id": "gRiEvuUJSfJc",
        "outputId": "16519bf5-61c0-45ee-b33f-f57d56b756b9"
      },
      "execution_count": 30,
      "outputs": [
        {
          "output_type": "stream",
          "name": "stdout",
          "text": [
            "tensor([ 3.4836e-01,  2.3107e-01,  1.1571e-01,  3.8330e-01, -7.5996e-05,\n",
            "         5.0055e-01,  4.1884e-01,  3.7552e-01,  8.0600e-02,  2.8557e-01],\n",
            "       grad_fn=<ViewBackward0>)\n"
          ]
        }
      ]
    },
    {
      "cell_type": "code",
      "source": [
        "# check the original model size\n",
        "\n",
        "import os\n",
        "\n",
        "# save the model and check the model size\n",
        "def print_size_of_model(model, label=\"\"):\n",
        "  torch.save(model.state_dict(), 'temp.p')\n",
        "  size = os.path.getsize(\"temp.p\")\n",
        "  print(\"model: \", label, '\\t', 'Size (Kb): ', size/1e3)\n",
        "  os.remove('temp.p')\n",
        "  return size"
      ],
      "metadata": {
        "id": "UGG7PnzWTG3t"
      },
      "execution_count": 31,
      "outputs": []
    },
    {
      "cell_type": "code",
      "source": [
        "clustered_model = SampleLinearModel()\n",
        "original_model_size = print_size_of_model(model, \"original_model\")"
      ],
      "metadata": {
        "colab": {
          "base_uri": "https://localhost:8080/"
        },
        "id": "GFomESitTK3d",
        "outputId": "9deeb23b-2807-4d5f-f207-6fe6aeec2afc"
      },
      "execution_count": 33,
      "outputs": [
        {
          "output_type": "stream",
          "name": "stdout",
          "text": [
            "model:  original_model \t Size (Kb):  1.926\n"
          ]
        }
      ]
    },
    {
      "cell_type": "markdown",
      "source": [
        "## apply weight clustering"
      ],
      "metadata": {
        "id": "zm22BkgbTbUK"
      }
    },
    {
      "cell_type": "code",
      "source": [
        "model.eval()\n",
        "model.cluster_weights(5)"
      ],
      "metadata": {
        "id": "21v_2FdeTQrX"
      },
      "execution_count": 34,
      "outputs": []
    },
    {
      "cell_type": "code",
      "source": [
        "print('linear.weights_mapping:\\n', model.weights_mapping)\n",
        "print('linear.weights_cluster:\\n', model.weights_cluster)\n",
        "print('linear.weigth:\\n', model.linear.weight)"
      ],
      "metadata": {
        "colab": {
          "base_uri": "https://localhost:8080/"
        },
        "id": "kr1iC-USUafD",
        "outputId": "782c5f15-781d-45ed-ed67-8f06cdb50076"
      },
      "execution_count": 35,
      "outputs": [
        {
          "output_type": "stream",
          "name": "stdout",
          "text": [
            "linear.weights_mapping:\n",
            " [[-0.05362369]\n",
            " [ 0.28887314]\n",
            " [-0.21338633]\n",
            " [ 0.19156776]\n",
            " [ 0.08644137]]\n",
            "linear.weights_cluster:\n",
            " [3 2 2 2 3 3 2 4 1 4 0 4 0 3 2 3 3 2 1 1 0 0 3 2 3 4 3 2 2 3 3 2 2 2 2 0 1\n",
            " 0 3 1 3 2 3 3 1 2 1 1 2 4 1 2 4 4 4 1 1 1 0 1 2 2 0 0 1 3 3 3 2 0 4 4 3 0\n",
            " 0 1 0 2 3 3 0 0 2 2 3 0 1 2 0 4 3 1 3 3 0 2 2 4 1 0]\n",
            "linear.weigth:\n",
            " None\n"
          ]
        }
      ]
    },
    {
      "cell_type": "code",
      "source": [
        "clustered_output = model(train_dataset[0][0])\n",
        "print(clustered_output)"
      ],
      "metadata": {
        "colab": {
          "base_uri": "https://localhost:8080/"
        },
        "id": "3Hvv1pupUeis",
        "outputId": "f11f929f-43c4-4488-ab5c-ca6edb12dde8"
      },
      "execution_count": 36,
      "outputs": [
        {
          "output_type": "stream",
          "name": "stdout",
          "text": [
            "tensor([ 0.3074,  0.1611,  0.1342,  0.4141,  0.0722,  0.5464,  0.3381,  0.3777,\n",
            "        -0.0066,  0.3722], grad_fn=<ViewBackward0>)\n"
          ]
        }
      ]
    },
    {
      "cell_type": "code",
      "source": [
        "## compare difference of the moudel size\n",
        "\n",
        "clustered_model_size = print_size_of_model(model, \"clustered model\")\n",
        "print(\"{0:.2f} times smaller\".format(original_model_size/clustered_model_size))"
      ],
      "metadata": {
        "colab": {
          "base_uri": "https://localhost:8080/"
        },
        "id": "hTztgUGPVq1q",
        "outputId": "e6d151bc-4e26-42da-c9f6-ffc59970da54"
      },
      "execution_count": 37,
      "outputs": [
        {
          "output_type": "stream",
          "name": "stdout",
          "text": [
            "model:  clustered model \t Size (Kb):  1.926\n",
            "1.00 times smaller\n"
          ]
        }
      ]
    },
    {
      "cell_type": "markdown",
      "source": [
        "# Weight Sharing Tensoflow"
      ],
      "metadata": {
        "id": "Rsl8BwxTfnMM"
      }
    },
    {
      "cell_type": "code",
      "source": [
        "import tensorflow_model_optimization as tfmot\n",
        "import tensorflow as tf\n",
        "print(tf.__version__)\n",
        "from tensorflow import keras\n",
        "from tensorflow.keras import layers\n",
        "import pandas as pd\n",
        "import numpy as np"
      ],
      "metadata": {
        "colab": {
          "base_uri": "https://localhost:8080/"
        },
        "id": "VvdThZt0We3d",
        "outputId": "763fa118-a8ab-4348-dab5-77271bf20f4c"
      },
      "execution_count": 38,
      "outputs": [
        {
          "output_type": "stream",
          "name": "stdout",
          "text": [
            "2.15.0\n"
          ]
        }
      ]
    },
    {
      "cell_type": "code",
      "source": [
        "# data\n",
        "data = pd.read_csv(\"sample_google_scholar.csv\")\n",
        "data = data.dropna()\n",
        "def convert_first_ten_characters_into_tensor(data):\n",
        "    first_ten_characters = data[:10]\n",
        "    converted = [ord(char)/256 for char in first_ten_characters]\n",
        "    while len(converted) < 10:\n",
        "        converted.append(0.0)\n",
        "    return np.array(converted)\n",
        "converted_affiliation = data['affiliation'].map(convert_first_ten_characters_into_tensor)\n",
        "affiliation = np.vstack(converted_affiliation.values)\n",
        "converted_email = data['email'].str.contains('.edu')\n",
        "labels = converted_email.values\n",
        "# model\n",
        "input_shape = 10"
      ],
      "metadata": {
        "id": "30sx2o4xf9z-"
      },
      "execution_count": 39,
      "outputs": []
    },
    {
      "cell_type": "code",
      "source": [
        "tf_model = keras.Sequential(\n",
        "    [\n",
        "        keras.Input(shape=input_shape),\n",
        "        layers.Dense(128, activation=\"relu\", name=\"layer1\"),\n",
        "        layers.Dense(64, activation=\"relu\", name=\"layer2\"),\n",
        "        layers.Dense(1, activation=\"sigmoid\", name=\"layer3\"),\n",
        "    ])\n",
        "loss = tf.keras.losses.BinaryCrossentropy()\n",
        "optimizer = tf.keras.optimizers.Adam()"
      ],
      "metadata": {
        "id": "oecH4Xnaf__H"
      },
      "execution_count": 40,
      "outputs": []
    },
    {
      "cell_type": "code",
      "source": [
        "tf_model.compile(loss=loss, optimizer=optimizer)\n",
        "# model fit\n",
        "tf_model.fit(affiliation, labels, batch_size=16, epochs=5, validation_split=0.2)"
      ],
      "metadata": {
        "colab": {
          "base_uri": "https://localhost:8080/"
        },
        "id": "VT1Kvx_ggCLq",
        "outputId": "33ebe85f-f4cf-4082-8380-46fd9194bc93"
      },
      "execution_count": 41,
      "outputs": [
        {
          "output_type": "stream",
          "name": "stdout",
          "text": [
            "Epoch 1/5\n",
            "3/3 [==============================] - 2s 277ms/step - loss: 0.7013 - val_loss: 0.7509\n",
            "Epoch 2/5\n",
            "3/3 [==============================] - 0s 44ms/step - loss: 0.6909 - val_loss: 0.7263\n",
            "Epoch 3/5\n",
            "3/3 [==============================] - 0s 46ms/step - loss: 0.6879 - val_loss: 0.7118\n",
            "Epoch 4/5\n",
            "3/3 [==============================] - 0s 43ms/step - loss: 0.6853 - val_loss: 0.7063\n",
            "Epoch 5/5\n",
            "3/3 [==============================] - 0s 38ms/step - loss: 0.6841 - val_loss: 0.7027\n"
          ]
        },
        {
          "output_type": "execute_result",
          "data": {
            "text/plain": [
              "<keras.src.callbacks.History at 0x78177a12a5c0>"
            ]
          },
          "metadata": {},
          "execution_count": 41
        }
      ]
    },
    {
      "cell_type": "code",
      "source": [
        "CentroidInitialization = tfmot.clustering.keras.CentroidInitialization\n",
        "clustering_params = {\n",
        "    'number_of_clusters': 10,\n",
        "    'cluster_centroids_init': CentroidInitialization.LINEAR\n",
        "}"
      ],
      "metadata": {
        "id": "X_mfghjmgDoO"
      },
      "execution_count": 47,
      "outputs": []
    },
    {
      "cell_type": "code",
      "source": [
        "clustered_model = tfmot.clustering.keras.cluster_weights(tf_model, **clustering_params)"
      ],
      "metadata": {
        "id": "ctFJrpsTgTP3"
      },
      "execution_count": 48,
      "outputs": []
    },
    {
      "cell_type": "code",
      "source": [
        "clustered_model.summary()"
      ],
      "metadata": {
        "colab": {
          "base_uri": "https://localhost:8080/"
        },
        "id": "chIY-dPagbRo",
        "outputId": "b57ffce1-cc96-437e-bcef-28d725d96e7a"
      },
      "execution_count": 49,
      "outputs": [
        {
          "output_type": "stream",
          "name": "stdout",
          "text": [
            "Model: \"sequential_1\"\n",
            "_________________________________________________________________\n",
            " Layer (type)                Output Shape              Param #   \n",
            "=================================================================\n",
            " cluster_layer1 (ClusterWei  (None, 128)               2698      \n",
            " ghts)                                                           \n",
            "                                                                 \n",
            " cluster_layer2 (ClusterWei  (None, 64)                16458     \n",
            " ghts)                                                           \n",
            "                                                                 \n",
            " cluster_layer3 (ClusterWei  (None, 1)                 139       \n",
            " ghts)                                                           \n",
            "                                                                 \n",
            "=================================================================\n",
            "Total params: 19295 (112.62 KB)\n",
            "Trainable params: 9759 (38.12 KB)\n",
            "Non-trainable params: 9536 (74.50 KB)\n",
            "_________________________________________________________________\n"
          ]
        }
      ]
    },
    {
      "cell_type": "code",
      "source": [
        "final_model = tfmot.clustering.keras.strip_clustering(clustered_model)"
      ],
      "metadata": {
        "id": "XxCNXvkegkFG"
      },
      "execution_count": 50,
      "outputs": []
    },
    {
      "cell_type": "code",
      "source": [
        "final_model.summary()"
      ],
      "metadata": {
        "id": "xmphMoH2gqOY",
        "outputId": "be166880-70db-49bb-c88f-26cdf8f5bebd",
        "colab": {
          "base_uri": "https://localhost:8080/"
        }
      },
      "execution_count": 51,
      "outputs": [
        {
          "output_type": "stream",
          "name": "stdout",
          "text": [
            "Model: \"sequential_1\"\n",
            "_________________________________________________________________\n",
            " Layer (type)                Output Shape              Param #   \n",
            "=================================================================\n",
            " layer1 (Dense)              (None, 128)               1408      \n",
            "                                                                 \n",
            " layer2 (Dense)              (None, 64)                8256      \n",
            "                                                                 \n",
            " layer3 (Dense)              (None, 1)                 65        \n",
            "                                                                 \n",
            "=================================================================\n",
            "Total params: 9729 (38.00 KB)\n",
            "Trainable params: 9729 (38.00 KB)\n",
            "Non-trainable params: 0 (0.00 Byte)\n",
            "_________________________________________________________________\n"
          ]
        }
      ]
    },
    {
      "cell_type": "code",
      "source": [],
      "metadata": {
        "id": "OHaz8fF2gsOp"
      },
      "execution_count": null,
      "outputs": []
    }
  ]
}