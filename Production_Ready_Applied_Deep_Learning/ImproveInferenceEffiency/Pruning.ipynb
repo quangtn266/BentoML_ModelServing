{
  "nbformat": 4,
  "nbformat_minor": 0,
  "metadata": {
    "colab": {
      "provenance": []
    },
    "kernelspec": {
      "name": "python3",
      "display_name": "Python 3"
    },
    "language_info": {
      "name": "python"
    }
  },
  "cells": [
    {
      "cell_type": "code",
      "execution_count": null,
      "metadata": {
        "id": "xv-tCHWy3leH",
        "colab": {
          "base_uri": "https://localhost:8080/"
        },
        "outputId": "af83638f-5b2f-48e6-a973-5fbd19002e12"
      },
      "outputs": [
        {
          "output_type": "stream",
          "name": "stdout",
          "text": [
            "Mounted at /content/drive\n"
          ]
        }
      ],
      "source": [
        "from google.colab import drive\n",
        "drive.mount('/content/drive')"
      ]
    },
    {
      "cell_type": "markdown",
      "source": [
        "## Network Pruning (Pytorch)"
      ],
      "metadata": {
        "id": "CFu15naKmHZE"
      }
    },
    {
      "cell_type": "code",
      "source": [
        "import torch\n",
        "import torch.quantization\n",
        "import torch.nn as nn"
      ],
      "metadata": {
        "id": "rwapEabULE-n"
      },
      "execution_count": 1,
      "outputs": []
    },
    {
      "cell_type": "code",
      "source": [
        "# set seed for reproducibility\n",
        "torch.manual_seed(0)\n",
        "\n",
        "class SampleLinearModel(nn.Module):\n",
        "  def __init__(self):\n",
        "    super(SampleLinearModel, self).__init__()\n",
        "    self.linear1 = nn.Linear(10, 10)\n",
        "\n",
        "  def forward(self, x):\n",
        "    x = self.linear1(x)\n",
        "    return x"
      ],
      "metadata": {
        "id": "VnNW9CR1R0w0"
      },
      "execution_count": 2,
      "outputs": []
    },
    {
      "cell_type": "code",
      "source": [
        "# Original model\n",
        "original_model = SampleLinearModel()\n",
        "print(original_model)"
      ],
      "metadata": {
        "colab": {
          "base_uri": "https://localhost:8080/"
        },
        "id": "BpDAREdwSPut",
        "outputId": "41a2ee95-df1f-4e1d-8ffc-173ba1a46ffb"
      },
      "execution_count": 3,
      "outputs": [
        {
          "output_type": "stream",
          "name": "stdout",
          "text": [
            "SampleLinearModel(\n",
            "  (linear1): Linear(in_features=10, out_features=10, bias=True)\n",
            ")\n"
          ]
        }
      ]
    },
    {
      "cell_type": "code",
      "source": [
        "for param_name , param in original_model.named_parameters():\n",
        "  print(param_name)"
      ],
      "metadata": {
        "colab": {
          "base_uri": "https://localhost:8080/"
        },
        "id": "Yt8-L5sTSWfI",
        "outputId": "ef838d0c-a992-4217-d355-dd0824bc8715"
      },
      "execution_count": 4,
      "outputs": [
        {
          "output_type": "stream",
          "name": "stdout",
          "text": [
            "linear1.weight\n",
            "linear1.bias\n"
          ]
        }
      ]
    },
    {
      "cell_type": "code",
      "source": [
        "# create pruned model\n",
        "import torch.nn.utils.prune as prune\n",
        "\n",
        "pruned_model = SampleLinearModel()\n",
        "parameters_to_prune = (\n",
        "    (pruned_model.linear1, 'weight'),\n",
        ")\n",
        "\n",
        "prune.global_unstructured(\n",
        "    parameters_to_prune,\n",
        "    pruning_method=prune.L1Unstructured,\n",
        "    amount=0.5\n",
        ")"
      ],
      "metadata": {
        "id": "gRiEvuUJSfJc"
      },
      "execution_count": 5,
      "outputs": []
    },
    {
      "cell_type": "code",
      "source": [
        "pruned_model.linear1.weight_mask"
      ],
      "metadata": {
        "colab": {
          "base_uri": "https://localhost:8080/"
        },
        "id": "UGG7PnzWTG3t",
        "outputId": "22e174e9-d3a4-4905-ab59-02bc17373cdc"
      },
      "execution_count": 6,
      "outputs": [
        {
          "output_type": "execute_result",
          "data": {
            "text/plain": [
              "tensor([[0., 1., 1., 1., 1., 1., 0., 0., 0., 0.],\n",
              "        [0., 0., 0., 0., 1., 1., 0., 0., 0., 1.],\n",
              "        [0., 0., 1., 0., 1., 0., 0., 0., 0., 1.],\n",
              "        [1., 1., 1., 0., 1., 0., 1., 0., 1., 1.],\n",
              "        [1., 1., 0., 1., 1., 1., 1., 1., 0., 0.],\n",
              "        [0., 0., 1., 1., 0., 0., 0., 0., 1., 0.],\n",
              "        [1., 0., 1., 0., 1., 1., 0., 0., 1., 1.],\n",
              "        [0., 0., 1., 0., 0., 0., 0., 0., 1., 1.],\n",
              "        [1., 1., 1., 0., 1., 1., 1., 0., 1., 0.],\n",
              "        [0., 1., 1., 1., 1., 1., 0., 1., 0., 0.]])"
            ]
          },
          "metadata": {},
          "execution_count": 6
        }
      ]
    },
    {
      "cell_type": "code",
      "source": [
        "pruned_model.linear1._forward_pre_hooks"
      ],
      "metadata": {
        "colab": {
          "base_uri": "https://localhost:8080/"
        },
        "id": "GFomESitTK3d",
        "outputId": "9b9ab981-d94d-4e25-b4f5-1a08c404e4c2"
      },
      "execution_count": 8,
      "outputs": [
        {
          "output_type": "execute_result",
          "data": {
            "text/plain": [
              "OrderedDict([(0, <torch.nn.utils.prune.CustomFromMask at 0x7817e6c612d0>)])"
            ]
          },
          "metadata": {},
          "execution_count": 8
        }
      ]
    },
    {
      "cell_type": "markdown",
      "source": [
        "## Network Pruning (Tensorflow)"
      ],
      "metadata": {
        "id": "zm22BkgbTbUK"
      }
    },
    {
      "cell_type": "code",
      "source": [
        "import tensorflow_model_optimization as tfmot\n",
        "import tensorflow as tf\n",
        "from tensorflow import keras\n",
        "from tensorflow.keras import layers\n",
        "import pandas as pd\n",
        "import numpy as np\n",
        "\n",
        "# data\n",
        "data = pd.read_csv(\"./sample_google_scholar.csv\")\n",
        "data = data.dropna()\n",
        "\n",
        "def convert_first_ten_characters_into_tensor(data):\n",
        "  first_ten_characters = data[:10]\n",
        "  converted = [ord(char)/256 for char in first_ten_characters]\n",
        "  while len(converted) < 10:\n",
        "    converted.append(0.0)\n",
        "  return np.array(converted)\n",
        "\n",
        "converted_affiliation = data['affiliation'].map(convert_first_ten_characters_into_tensor)\n",
        "affiliation = np.vstack(converted_affiliation.values)\n",
        "converted_email = data['email'].str.contains('.edu')\n",
        "labels = converted_email.values\n",
        "\n",
        "# model\n",
        "input_shape = 10"
      ],
      "metadata": {
        "id": "21v_2FdeTQrX"
      },
      "execution_count": 13,
      "outputs": []
    },
    {
      "cell_type": "code",
      "source": [
        "num_examples_train = len(affiliation)\n",
        "batch_size = 16\n",
        "epochs = 5\n",
        "\n",
        "end_step = np.ceil(num_examples_train/batch_size).astype(np.int32)*epochs\n",
        "\n",
        "pruning_params = {\n",
        "    'pruning_schedule': tfmot.sparsity.keras.PolynomialDecay(initial_sparsity=0.3, final_sparsity=0.5, begin_step=0,\n",
        "                                                             end_step=end_step)\n",
        "}"
      ],
      "metadata": {
        "id": "kr1iC-USUafD"
      },
      "execution_count": 14,
      "outputs": []
    },
    {
      "cell_type": "code",
      "source": [
        "model = keras.Sequential(\n",
        "    [\n",
        "        keras.Input(shape=input_shape),\n",
        "        layers.Dense(128, activation='relu', name='layer1'),\n",
        "        layers.Dense(64, activation='relu', name='layer2'),\n",
        "        layers.Dense(1, activation='sigmoid', name='layer3'),\n",
        "    ]\n",
        ")\n",
        "\n",
        "loss = tf.keras.losses.BinaryCrossentropy()\n",
        "optimizer = tf.keras.optimizers.Adam()"
      ],
      "metadata": {
        "id": "3Hvv1pupUeis"
      },
      "execution_count": 15,
      "outputs": []
    },
    {
      "cell_type": "code",
      "source": [
        "model_for_pruning = tfmot.sparsity.keras.prune_low_magnitude(model, **pruning_params)"
      ],
      "metadata": {
        "id": "iEkQIjjUVgwF"
      },
      "execution_count": 16,
      "outputs": []
    },
    {
      "cell_type": "code",
      "source": [
        "model_for_pruning.compile(loss=loss, optimizer=optimizer)\n",
        "\n",
        "callbacks = [tfmot.sparsity.keras.UpdatePruningStep()]\n",
        "\n",
        "model_for_pruning.fit(affiliation, labels, batch_size=6, epochs=5, validation_split=0.2, callbacks=callbacks)"
      ],
      "metadata": {
        "colab": {
          "base_uri": "https://localhost:8080/"
        },
        "id": "hTztgUGPVq1q",
        "outputId": "56672a22-8fe0-4783-a076-976f552c8fb3"
      },
      "execution_count": 17,
      "outputs": [
        {
          "output_type": "stream",
          "name": "stdout",
          "text": [
            "Epoch 1/5\n",
            "8/8 [==============================] - 4s 41ms/step - loss: 0.6971 - val_loss: 0.6810\n",
            "Epoch 2/5\n",
            "8/8 [==============================] - 0s 10ms/step - loss: 0.6909 - val_loss: 0.6892\n",
            "Epoch 3/5\n",
            "8/8 [==============================] - 0s 8ms/step - loss: 0.6870 - val_loss: 0.7146\n",
            "Epoch 4/5\n",
            "8/8 [==============================] - 0s 9ms/step - loss: 0.6838 - val_loss: 0.7185\n",
            "Epoch 5/5\n",
            "8/8 [==============================] - 0s 10ms/step - loss: 0.6832 - val_loss: 0.7049\n"
          ]
        },
        {
          "output_type": "execute_result",
          "data": {
            "text/plain": [
              "<keras.src.callbacks.History at 0x78178d5c7a90>"
            ]
          },
          "metadata": {},
          "execution_count": 17
        }
      ]
    },
    {
      "cell_type": "code",
      "source": [
        "model_for_pruning.summary()"
      ],
      "metadata": {
        "colab": {
          "base_uri": "https://localhost:8080/"
        },
        "id": "Cx3ySI4gWCH4",
        "outputId": "d3f61837-b29a-4d2b-ccea-fc895b48052b"
      },
      "execution_count": 19,
      "outputs": [
        {
          "output_type": "stream",
          "name": "stdout",
          "text": [
            "Model: \"sequential\"\n",
            "_________________________________________________________________\n",
            " Layer (type)                Output Shape              Param #   \n",
            "=================================================================\n",
            " prune_low_magnitude_layer1  (None, 128)               2690      \n",
            "  (PruneLowMagnitude)                                            \n",
            "                                                                 \n",
            " prune_low_magnitude_layer2  (None, 64)                16450     \n",
            "  (PruneLowMagnitude)                                            \n",
            "                                                                 \n",
            " prune_low_magnitude_layer3  (None, 1)                 131       \n",
            "  (PruneLowMagnitude)                                            \n",
            "                                                                 \n",
            "=================================================================\n",
            "Total params: 19271 (75.29 KB)\n",
            "Trainable params: 9729 (38.00 KB)\n",
            "Non-trainable params: 9542 (37.29 KB)\n",
            "_________________________________________________________________\n"
          ]
        }
      ]
    },
    {
      "cell_type": "code",
      "source": [
        "final_tf_model = tfmot.sparsity.keras.strip_pruning(model_for_pruning)"
      ],
      "metadata": {
        "id": "e82D3iAHWJ53"
      },
      "execution_count": 20,
      "outputs": []
    },
    {
      "cell_type": "code",
      "source": [
        "final_tf_model.summary()"
      ],
      "metadata": {
        "colab": {
          "base_uri": "https://localhost:8080/"
        },
        "id": "8aYf8UhdWRjQ",
        "outputId": "482cbd78-9dc5-4676-be78-00e4d4104db6"
      },
      "execution_count": 21,
      "outputs": [
        {
          "output_type": "stream",
          "name": "stdout",
          "text": [
            "Model: \"sequential\"\n",
            "_________________________________________________________________\n",
            " Layer (type)                Output Shape              Param #   \n",
            "=================================================================\n",
            " layer1 (Dense)              (None, 128)               1408      \n",
            "                                                                 \n",
            " layer2 (Dense)              (None, 64)                8256      \n",
            "                                                                 \n",
            " layer3 (Dense)              (None, 1)                 65        \n",
            "                                                                 \n",
            "=================================================================\n",
            "Total params: 9729 (38.00 KB)\n",
            "Trainable params: 9729 (38.00 KB)\n",
            "Non-trainable params: 0 (0.00 Byte)\n",
            "_________________________________________________________________\n"
          ]
        }
      ]
    },
    {
      "cell_type": "code",
      "source": [
        "model.summary()"
      ],
      "metadata": {
        "colab": {
          "base_uri": "https://localhost:8080/"
        },
        "id": "c_is-cIIWT0K",
        "outputId": "9c90bb7f-0246-4883-f76d-664f5c36a844"
      },
      "execution_count": 22,
      "outputs": [
        {
          "output_type": "stream",
          "name": "stdout",
          "text": [
            "Model: \"sequential\"\n",
            "_________________________________________________________________\n",
            " Layer (type)                Output Shape              Param #   \n",
            "=================================================================\n",
            " layer1 (Dense)              (None, 128)               1408      \n",
            "                                                                 \n",
            " layer2 (Dense)              (None, 64)                8256      \n",
            "                                                                 \n",
            " layer3 (Dense)              (None, 1)                 65        \n",
            "                                                                 \n",
            "=================================================================\n",
            "Total params: 9729 (38.00 KB)\n",
            "Trainable params: 9729 (38.00 KB)\n",
            "Non-trainable params: 0 (0.00 Byte)\n",
            "_________________________________________________________________\n"
          ]
        }
      ]
    },
    {
      "cell_type": "code",
      "source": [],
      "metadata": {
        "id": "VvdThZt0We3d"
      },
      "execution_count": null,
      "outputs": []
    }
  ]
}