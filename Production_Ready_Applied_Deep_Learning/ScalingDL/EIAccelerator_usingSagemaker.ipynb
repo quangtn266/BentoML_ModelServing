{
  "nbformat": 4,
  "nbformat_minor": 0,
  "metadata": {
    "colab": {
      "provenance": []
    },
    "kernelspec": {
      "name": "python3",
      "display_name": "Python 3"
    },
    "language_info": {
      "name": "python"
    }
  },
  "cells": [
    {
      "cell_type": "code",
      "execution_count": 1,
      "metadata": {
        "id": "xv-tCHWy3leH",
        "colab": {
          "base_uri": "https://localhost:8080/"
        },
        "outputId": "af83638f-5b2f-48e6-a973-5fbd19002e12"
      },
      "outputs": [
        {
          "output_type": "stream",
          "name": "stdout",
          "text": [
            "Mounted at /content/drive\n"
          ]
        }
      ],
      "source": [
        "from google.colab import drive\n",
        "drive.mount('/content/drive')"
      ]
    },
    {
      "cell_type": "code",
      "source": [
        "import os\n",
        "import sagemaker\n",
        "from sagemaker import get_execution_role\n",
        "\n",
        "## Setup session\n",
        "sagemaker_session = sagemaker.Session()\n",
        "\n",
        "#IAM role\n",
        "role = get_execution_role()\n",
        "\n",
        "# region\n",
        "region = sagemaker_session.boto_session.region_name"
      ],
      "metadata": {
        "id": "rwapEabULE-n"
      },
      "execution_count": null,
      "outputs": []
    },
    {
      "cell_type": "code",
      "source": [
        "training_data_uri=\"s3://sagemaker-model-scripts/tensorflow/mnist\"\n",
        "training_data_uri=\"s3://sagemaker-sample-data-{}/tensorflow/mnist\".format(region)\n",
        "print(training_data_uri)"
      ],
      "metadata": {
        "id": "oiLHKK3hLYAC"
      },
      "execution_count": null,
      "outputs": []
    },
    {
      "cell_type": "code",
      "source": [
        "from sagemaker.tensorflow import TensorFlow\n",
        "\n",
        "# Tensorflow model config\n",
        "mnist_estimator2 = Tensorflow(\n",
        "    entry_point = \"mnist.py\",\n",
        "    role = role,\n",
        "    instance_count=2,\n",
        "    instance_type=\"ml.m4.2xlarge\",\n",
        "    framework_version=\"2.1\",\n",
        "    py_version=\"py2\",\n",
        "    distribution={\"parameter_server\": {\"enabled\": True}}\n",
        ")"
      ],
      "metadata": {
        "id": "ew-EO6nQLb6l"
      },
      "execution_count": null,
      "outputs": []
    },
    {
      "cell_type": "code",
      "source": [
        "# training the model\n",
        "mnist_estimator2.fit(training_data_uri)\n",
        "\n",
        "# deploying a tensorflow model files using EI\n",
        "predictor = mnist_estimator2.deploy(\n",
        "      initial_instance_count=1, # ec2 inital count\n",
        "      instance_type='ml.m4.xlarge', # ec2 instance type\n",
        "      accelerator_type='ml.eia2.medium' # accelerator type\n",
        ")"
      ],
      "metadata": {
        "id": "-I2tRywgNePF"
      },
      "execution_count": null,
      "outputs": []
    },
    {
      "cell_type": "code",
      "source": [
        "# prediction\n",
        "import numpy as np\n",
        "random_input = np.random.rand(1, 1, 3, 3)\n",
        "\n",
        "# predict for a sample input\n",
        "prediction = predictor.predict({\"input\": random_input.tolist()})\n",
        "\n",
        "# print prediction\n",
        "print(prediction)\n",
        "print(prediction.endpoint)\n",
        "\n",
        "import sagemaker\n",
        "\n",
        "# delete the endpoint\n",
        "predictor.delete_endpoint()"
      ],
      "metadata": {
        "id": "JGI8LRPuN3iI"
      },
      "execution_count": null,
      "outputs": []
    }
  ]
}