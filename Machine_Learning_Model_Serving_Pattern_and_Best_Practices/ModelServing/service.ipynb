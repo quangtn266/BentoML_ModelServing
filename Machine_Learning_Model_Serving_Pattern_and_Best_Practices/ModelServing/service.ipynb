{
 "cells": [
  {
   "cell_type": "code",
   "execution_count": null,
   "id": "17bea555-e828-4e3f-b3b2-ce688f49f4c4",
   "metadata": {},
   "outputs": [],
   "source": [
    "pip install -U sklearn\n",
    "pip install bentoml -U --pre"
   ]
  },
  {
   "cell_type": "code",
   "execution_count": 2,
   "id": "c43ee0e6-c7aa-4deb-be75-f6f8ef10bf42",
   "metadata": {},
   "outputs": [],
   "source": [
    "import bentoml\n",
    "from sklearn import svm\n",
    "from sklearn import datasets"
   ]
  },
  {
   "cell_type": "code",
   "execution_count": 3,
   "id": "3d7493be-22ef-4673-bb68-9a7de0bbd844",
   "metadata": {},
   "outputs": [
    {
     "name": "stdout",
     "output_type": "stream",
     "text": [
      "Model saved: Model(tag=\"iris_clf:dvahlvvexsezj6xv\")\n"
     ]
    }
   ],
   "source": [
    "# Loading training dataset\n",
    "iris = datasets.load_iris()\n",
    "X, y = iris.data, iris.target\n",
    "# Train the model\n",
    "clf = svm.SVC(gamma='scale')\n",
    "clf.fit(X,y)\n",
    "# Save the model to the BentoML local model store\n",
    "#saved_model = bentoml.sklearn.save_model(\"iris_clf\", clf)\n",
    "saved_model = bentoml.sklearn.save_model(\"iris_clf\", clf)\n",
    "print(f\"Model saved: {saved_model}\")"
   ]
  },
  {
   "cell_type": "code",
   "execution_count": 4,
   "id": "c3b1cdef-0910-4970-9d82-4a192516e176",
   "metadata": {},
   "outputs": [],
   "source": [
    "import numpy as np\n",
    "import bentoml\n",
    "from bentoml.io import NumpyNdarray"
   ]
  },
  {
   "cell_type": "code",
   "execution_count": 5,
   "id": "257d6dae-4cb4-46e6-93b7-0cb3d4ea471c",
   "metadata": {},
   "outputs": [],
   "source": [
    "iris_clf_runner = bentoml.sklearn.get(\"iris_clf:latest\").to_runner()\n",
    "\n",
    "svc = bentoml.Service(\"iris_classifier\", runners=[iris_clf_runner])\n",
    "\n",
    "@svc.api(input=NumpyNdarray(), output=NumpyNdarray())\n",
    "def classify(input_series: np.ndarray) -> np.ndarray:\n",
    "    result = iris_clf_runner.predict.run(input_series)\n",
    "    return result"
   ]
  },
  {
   "cell_type": "code",
   "execution_count": null,
   "id": "0890ef8e-9252-464c-a79d-8d0ada7ac8bf",
   "metadata": {},
   "outputs": [],
   "source": []
  }
 ],
 "metadata": {
  "kernelspec": {
   "display_name": "Python 3 (ipykernel)",
   "language": "python",
   "name": "python3"
  },
  "language_info": {
   "codemirror_mode": {
    "name": "ipython",
    "version": 3
   },
   "file_extension": ".py",
   "mimetype": "text/x-python",
   "name": "python",
   "nbconvert_exporter": "python",
   "pygments_lexer": "ipython3",
   "version": "3.8.18"
  }
 },
 "nbformat": 4,
 "nbformat_minor": 5
}
